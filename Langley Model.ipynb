{
 "metadata": {
  "name": "Langley Model"
 },
 "nbformat": 3,
 "nbformat_minor": 0,
 "worksheets": [
  {
   "cells": [
    {
     "cell_type": "code",
     "collapsed": false,
     "input": [
      "labels = []\n",
      "coef = []\n",
      "expcoef = []\n",
      "lower95 = []\n",
      "upper95 = []\n",
      "se = []\n",
      "\n",
      "import csv\n",
      "with open('analysis.csv') as csvfile:\n",
      "    analysisreader = csv.reader(csvfile)\n",
      "    for row in analysisreader:\n",
      "        if row[0]==\"\":\n",
      "            continue\n",
      "        labels.append(row[0])\n",
      "        coef.append(row[1])\n",
      "        "
     ],
     "language": "python",
     "metadata": {},
     "outputs": []
    }
   ],
   "metadata": {}
  }
 ]
}