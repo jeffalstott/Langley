{
 "metadata": {
  "name": ""
 },
 "nbformat": 3,
 "nbformat_minor": 0,
 "worksheets": [
  {
   "cells": [
    {
     "cell_type": "markdown",
     "metadata": {},
     "source": [
      "Initial Setup\n",
      "--------"
     ]
    },
    {
     "cell_type": "code",
     "collapsed": false,
     "input": [
      "cd /data/alstottjd/Langley/"
     ],
     "language": "python",
     "metadata": {},
     "outputs": [
      {
       "output_type": "stream",
       "stream": "stdout",
       "text": [
        "/spin1/users/alstottjd/Langley\n"
       ]
      }
     ],
     "prompt_number": 1
    },
    {
     "cell_type": "code",
     "collapsed": false,
     "input": [
      "figures = []\n",
      "fn = 1\n",
      "sfn = 1"
     ],
     "language": "python",
     "metadata": {},
     "outputs": [],
     "prompt_number": 2
    },
    {
     "cell_type": "code",
     "collapsed": false,
     "input": [
      "matplotlib.rc('font', **{'sans-serif' : 'Arial', \n",
      "                         'family' : 'sans-serif',\n",
      "                         'size' : 10})\n",
      "\n",
      "from matplotlib.font_manager import FontProperties\n",
      "\n",
      "panel_label_font = FontProperties().copy()\n",
      "panel_label_font.set_weight(\"bold\")\n",
      "panel_label_font.set_size(12.0)\n",
      "panel_label_font.set_family(\"sans-serif\")"
     ],
     "language": "python",
     "metadata": {},
     "outputs": [],
     "prompt_number": 3
    },
    {
     "cell_type": "markdown",
     "metadata": {},
     "source": [
      "Load teams\n",
      "--------"
     ]
    },
    {
     "cell_type": "code",
     "collapsed": false,
     "input": [
      "import networkx\n",
      "import pickle\n",
      "G = pickle.load(open('/data/alstottjd/Langley/Network_parents.p'))\n",
      "C=networkx.connected_component_subgraphs(G.to_undirected())"
     ],
     "language": "python",
     "metadata": {},
     "outputs": [],
     "prompt_number": 4
    },
    {
     "cell_type": "code",
     "collapsed": false,
     "input": [
      "for i in range(len(C)):\n",
      "    C[i] = G.subgraph(C[i].nodes())"
     ],
     "language": "python",
     "metadata": {},
     "outputs": [],
     "prompt_number": 5
    },
    {
     "cell_type": "code",
     "collapsed": false,
     "input": [
      "def max_depth(G):\n",
      "    d = 0\n",
      "    for i in G.node:\n",
      "        d = max(d,G.node[i]['depth'])\n",
      "    return float(d)"
     ],
     "language": "python",
     "metadata": {},
     "outputs": [],
     "prompt_number": 6
    },
    {
     "cell_type": "markdown",
     "metadata": {},
     "source": [
      "Figure 1: Example Team and Team Statistics\n",
      "----"
     ]
    },
    {
     "cell_type": "code",
     "collapsed": false,
     "input": [
      "figwidth = 8.6\n",
      "\n",
      "fig = plt.figure(figsize=(figwidth, figwidth/(2*1.618)))\n",
      "\n",
      "\n",
      "\n",
      "######\n",
      "ax = fig.add_subplot(131)\n",
      "\n",
      "import matplotlib.cm as cm\n",
      "\n",
      "i = 3 #Picked team number 3\n",
      "\n",
      "        \n",
      "d = max_depth(C[i])\n",
      "\n",
      "depth_colors = []\n",
      "for j in C[i].nodes():\n",
      "    depth_percentage = C[i].node[j]['depth']/d\n",
      "    depth_colors.append(cm.gray(depth_percentage))\n",
      "    \n",
      "same_age_colors = []\n",
      "same_media_colors = []\n",
      "same_relationship_colors = []\n",
      "for e in C[i].edges():\n",
      "    if C[i].node[e[0]]['age']=='unknown' or C[i].node[e[1]]['age']=='unknown':\n",
      "        same_age_colors.append('green')\n",
      "    elif C[i].node[e[0]]['age']==C[i].node[e[1]]['age']:\n",
      "        same_age_colors.append('blue')\n",
      "    else:\n",
      "        same_age_colors.append('red')\n",
      "    if C[i].node[e[0]]['source_through']==0 or C[i].node[e[1]]['source_through']==0:\n",
      "        same_media_colors.append('green')\n",
      "    elif C[i].node[e[0]]['source_through']==C[i].node[e[1]]['source_through']:\n",
      "        same_media_colors.append('blue')\n",
      "    else:\n",
      "        same_media_colors.append('red')\n",
      "    if C[i].node[e[0]]['source_from']==0 or C[i].node[e[1]]['source_from']==0:\n",
      "        same_relationship_colors.append('green')\n",
      "    elif C[i].node[e[0]]['source_from']==C[i].node[e[1]]['source_from']:\n",
      "        same_relationship_colors.append('blue')\n",
      "    else:\n",
      "        same_relationship_colors.append('red')\n",
      "\n",
      "node_size = 50\n",
      "alpha = 1\n",
      "width = .5\n",
      "\n",
      "#title(\"Example team, %i members, %.0f generations\"%(len(C[i].node), d))\n",
      "H = C[i].copy()\n",
      "for n in H.node:\n",
      "    for k in H.node[n].keys():\n",
      "        H.node[n].pop(k)\n",
      "#pos=networkx.spring_layout(C[i].to_undirected())\n",
      "pos=networkx.graphviz_layout(H,prog='dot')\n",
      "#pos=networkx.graphviz_layout(C[i],prog=\"twopi\",root=0)\n",
      "\n",
      "\n",
      "networkx.draw(C[i],pos,node_size=node_size,\n",
      "    alpha=alpha, width=width, \n",
      "    with_labels=False, \n",
      "    node_color = depth_colors,\n",
      "    edge_color = same_relationship_colors, \n",
      "    arrows=True,\n",
      "    ax=ax)\n",
      "\n",
      "# adjust the plot limits\n",
      "cut = 1.15\n",
      "xmax= cut*max(xx for xx,yy in pos.values())\n",
      "xmin= cut*min(xx for xx,yy in pos.values())\n",
      "ymax= cut*max(yy for xx,yy in pos.values())\n",
      "ymin= cut*min(yy for xx,yy in pos.values())\n",
      "#ax.set_xlim(xmin,xmax)\n",
      "#ax.set_ylim(ymin,ymax)\n",
      "\n",
      "yl = ax.set_ylabel(\"\")\n",
      "ax.annotate(\"A\", (0,1.), xycoords=(yl, \"axes fraction\"), \n",
      "             fontproperties=panel_label_font) \n",
      "\n",
      "\n",
      "#######\n",
      "s = 50\n",
      "import powerlaw\n",
      "\n",
      "team_sizes = numpy.zeros(len(C))\n",
      "for i in range(len(C)):\n",
      "    team_sizes[i] = networkx.number_of_nodes(C[i])\n",
      "sizes_fit = powerlaw.Fit(team_sizes, discrete=True)\n",
      "\n",
      "number_of_children = asarray(G.out_degree().values())\n",
      "number_of_children = number_of_children[number_of_children>0]\n",
      "num_children_fit = powerlaw.Fit(number_of_children, discrete=True)\n",
      "\n",
      "########\n",
      "ax = fig.add_subplot(132)\n",
      "x,y = sizes_fit.ccdf(original_data=True)\n",
      "ax.scatter(x,y, s=s)\n",
      "ax.set_xscale(\"log\")\n",
      "ax.set_yscale(\"log\")\n",
      "ax.set_xlabel(\"Team Size\")\n",
      "yl = ax.set_ylabel(u\"p(X \\u2265 x)\")\n",
      "ylim(10**-3,1)\n",
      "xlim(1, 10**3)\n",
      "ax.annotate(\"B\", (0,1.), xycoords=(yl, \"axes fraction\"), \n",
      "             fontproperties=panel_label_font) \n",
      "\n",
      "print(sizes_fit.alpha)\n",
      "print(sizes_fit.xmin)\n",
      "print(sizes_fit.loglikelihood_ratio('power_law', 'exponential'))\n",
      "print(sizes_fit.loglikelihood_ratio('power_law', 'lognormal'))\n",
      "\n",
      "x = array([sizes_fit.xmin, max(team_sizes)])\n",
      "y = sizes_fit.power_law.ccdf(x)\n",
      "ax.plot(x,y, 'k--', label=r\"$\\alpha = -%.2f$\"\"\\n\"r\"$x_{min} = %d$\"%(sizes_fit.alpha, sizes_fit.xmin))\n",
      "ax.legend(handles[::-1], labels[::-1], loc=3)\n",
      "\n",
      "#########\n",
      "ax = fig.add_subplot(133)\n",
      "x,y = num_children_fit.ccdf(original_data=True)\n",
      "ax.scatter(x,y, s=s)\n",
      "ax.set_xscale(\"log\")\n",
      "ax.set_yscale(\"log\")\n",
      "ax.set_xlabel(\"Number of Recruits per Participant\")\n",
      "yl = ax.set_ylabel(u\"p(X \\u2265 x)\")\n",
      "ylim(1.0/10**3,1)\n",
      "xlim(1, 10.0**3)\n",
      "ax.annotate(\"C\", (0,1.), xycoords=(yl, \"axes fraction\"), \n",
      "             fontproperties=panel_label_font) \n",
      "\n",
      "print(num_children_fit.alpha)\n",
      "print(num_children_fit.xmin)\n",
      "print(num_children_fit.loglikelihood_ratio('power_law', 'exponential'))\n",
      "print(num_children_fit.loglikelihood_ratio('power_law', 'lognormal'))\n",
      "\n",
      "x = array([sizes_fit.xmin, max(number_of_children)])\n",
      "y = sizes_fit.power_law.ccdf(x)\n",
      "ax.plot(x,y, 'k--', label=r\"$\\alpha = -%.2f$\"\"\\n\"r\"$x_{min} = %d$\"%(num_children_fit.alpha, num_children_fit.xmin))\n",
      "handles, labels = ax.get_legend_handles_labels()\n",
      "ax.legend(handles[::-1], labels[::-1], loc=3)\n",
      "\n",
      "subplots_adjust(wspace=.3)\n",
      "#suptitle(\"Figure S%i\"%sfn)\n",
      "sfn+=1\n",
      "figures.append(fig)"
     ],
     "language": "python",
     "metadata": {},
     "outputs": [
      {
       "output_type": "stream",
       "stream": "stdout",
       "text": [
        "Calculating best minimal value for power law fit\n",
        "Calculating best minimal value for power law fit\n",
        "1.84173549453"
       ]
      },
      {
       "output_type": "stream",
       "stream": "stdout",
       "text": [
        "\n",
        "2.0\n",
        "(58.528065962144268, 0.0031635833220197006)\n",
        "(0.013301260678712179, 0.94333656609369254)"
       ]
      },
      {
       "output_type": "stream",
       "stream": "stdout",
       "text": [
        "\n",
        "1.95317495909"
       ]
      },
      {
       "output_type": "stream",
       "stream": "stdout",
       "text": [
        "\n",
        "2\n",
        "(61.451138314043035, 0.014691972933115345)\n",
        "(-0.044967456236696846, 0.92625313628788319)"
       ]
      },
      {
       "output_type": "stream",
       "stream": "stdout",
       "text": [
        "\n"
       ]
      },
      {
       "metadata": {},
       "output_type": "display_data",
       "png": "[encoded data removed]",
       "text": [
        "<matplotlib.figure.Figure at 0xbcae250>"
       ]
      }
     ],
     "prompt_number": 39
    },
    {
     "cell_type": "markdown",
     "metadata": {},
     "source": [
      "Run Cox model\n",
      "---------"
     ]
    },
    {
     "cell_type": "code",
     "collapsed": false,
     "input": [
      "%load_ext rmagic"
     ],
     "language": "python",
     "metadata": {},
     "outputs": [
      {
       "output_type": "stream",
       "stream": "stderr",
       "text": [
        "/home/alstottjd/JeffPython/lib/python2.7/site-packages/pytz/__init__.py:35: UserWarning: Module powerlaw was already imported from /home/alstottjd/Code/powerlaw/__init__.pyc, but /home/alstottjd/JeffPython/lib/python2.7/site-packages is being added to sys.path\n",
        "  from pkg_resources import resource_stream\n"
       ]
      }
     ],
     "prompt_number": 8
    },
    {
     "cell_type": "code",
     "collapsed": false,
     "input": [
      "%%R -o factor_labels -d model_data\n",
      "\n",
      "mydata = read.csv(\"Langley_Recruits_anonymized_data.csv\")\n",
      "\n",
      "mydata$Same_Heard_From_as_Recruiter <- factor(mydata$Same_Heard_From_as_Recruiter, levels=0:2)\n",
      "mydata$Same_Heard_From_as_Recruiter <- relevel(mydata$Same_Heard_From_as_Recruiter, ref=\"2\")\n",
      "\n",
      "mydata$Heard_From <- factor(mydata$Heard_From, levels=c(0:5,100))\n",
      "mydata$Heard_From <- relevel(mydata$Heard_From, ref=\"0\")\n",
      "\n",
      "mydata$Age <- relevel(mydata$Age, ref=\"unknown\")\n",
      "mydata$Recruiter_Age <- relevel(mydata$Recruiter_Age, ref=\"unknown\")\n",
      "\n",
      "mydata$Gender <- relevel(mydata$Gender, ref=\"unknown\")\n",
      "mydata$Recruiter_Gender <- relevel(mydata$Recruiter_Gender, ref=\"unknown\")\n",
      "\n",
      "mydata$Location_Comparison <- relevel(mydata$Location_Comparison, ref=\"unknown\")\n",
      "\n",
      "library(survival)\n",
      "library(rmeta)\n",
      "library(car)\n",
      "analysis<-coxph(Surv(Registration_Interval_Days) ~\n",
      "    (Recruiter_Gender*Gender)\n",
      "    + (Recruiter_Age*Age)\n",
      "    + Location_Comparison\n",
      "    + Heard_From\n",
      "    + Same_Heard_From_as_Recruiter\n",
      "    + Recruiter_Number_of_Recruits-1\n",
      "    + Number_of_Recruits\n",
      "    + Recruitment_Generation-1\n",
      "    + Recruiter_Join_Date_Numeric_Days,\n",
      "    , data=mydata\n",
      "    , singular.ok=TRUE)\n",
      "\n",
      "print(analysis$call)\n",
      "\n",
      "q<-summary(analysis)\n",
      "model_data = data.frame(coef=q$coefficients[,1], expcoef=q$conf.int[,1], lower95=q$conf.int[,3], upper95=q$conf.int[,4], se=q$coefficients[,3])\n",
      "factor_labels = rownames(model_data)\n",
      "\n",
      "ind = which(!is.na(analysis$coefficients))\n",
      "V = vcov(analysis)\n",
      "V = V[ind, ind]"
     ],
     "language": "python",
     "metadata": {},
     "outputs": [
      {
       "metadata": {},
       "output_type": "display_data",
       "text": [
        "Loading required package: splines\n",
        "Loading required package: grid\n",
        "coxph(formula = Surv(Registration_Interval_Days) ~ (Recruiter_Gender * \n",
        "    Gender) + (Recruiter_Age * Age) + Location_Comparison + Heard_From + \n",
        "    Same_Heard_From_as_Recruiter + Recruiter_Number_of_Recruits - \n",
        "    1 + Number_of_Recruits + Recruitment_Generation - 1 + Recruiter_Join_Date_Numeric_Days, \n",
        "    data = mydata, singular.ok = TRUE)\n"
       ]
      }
     ],
     "prompt_number": 9
    },
    {
     "cell_type": "markdown",
     "metadata": {},
     "source": [
      "Define forest plot functions\n",
      "------"
     ]
    },
    {
     "cell_type": "code",
     "collapsed": false,
     "input": [
      "def boxplot(middle, boxtop, boxbottom, whiskertop, whiskerbottom, label=None, color='Spectral_r', width=.5, spacing=1, ax=None, orientation='forest'):\n",
      "    n = len(middle)\n",
      "    \n",
      "    middle = ma.masked_invalid(middle)\n",
      "    whiskertop = ma.masked_invalid(whiskertop)\n",
      "    whiskerbottom = ma.masked_invalid(whiskerbottom)\n",
      "    \n",
      "    positions = range(1,spacing*n+1, spacing)\n",
      "    \n",
      "    width = width\n",
      "    width = width/2\n",
      "    \n",
      "    if ax==None:\n",
      "        fig = figure()\n",
      "        ax = fig.add_subplot(111)\n",
      "    \n",
      "    from matplotlib.patches import Rectangle\n",
      "    from matplotlib import colors, cm\n",
      "    norm = colors.LogNorm(middle.min(), middle.max())\n",
      "    cmap = cm.get_cmap(color)\n",
      "    \n",
      "    for i in range(n):\n",
      "        m = middle[i]\n",
      "        if m == ma.masked:\n",
      "            print(\"Skipping invalid value %i\"%i)\n",
      "            continue\n",
      "        bt = boxtop[i]\n",
      "        bb = boxbottom[i]\n",
      "        wt = whiskertop[i]\n",
      "        wb = whiskerbottom[i]\n",
      "        \n",
      "        if orientation=='forest':\n",
      "            position = positions[-(i+1)]\n",
      "\n",
      "            p = Rectangle((bb, position-width),bt-bb, width*2, color=cmap(norm(m)), alpha=.6)\n",
      "            ax.add_patch(p)\n",
      "            \n",
      "            linex = [position-width, position+width]\n",
      "            liney = [m, m]\n",
      "            ax.plot(liney, linex, linewidth=3, color=cmap(norm(m)), alpha=1)\n",
      "            \n",
      "            whiskerx = [position, position, position-width, position+width]\n",
      "            \n",
      "            upperwhiskery = [bt, wt, wt, wt]\n",
      "            ax.plot(upperwhiskery, whiskerx,  color=cmap(norm(m)))\n",
      "            \n",
      "            lowerwhiskery = [bb, wb, wb, wb]\n",
      "            ax.plot(lowerwhiskery, whiskerx, color=cmap(norm(m)))\n",
      "        else:\n",
      "            position = positions[i]\n",
      "\n",
      "            p = Rectangle((position-width, bb),width*2, bt-bb, color=cmap(norm(m)), alpha=.6)\n",
      "            ax.add_patch(p)\n",
      "            \n",
      "            \n",
      "            linex = [position-width, position+width]\n",
      "            liney = [m, m]\n",
      "            ax.plot(linex, liney,'k', linewidth=3, color=cmap(norm(m)), alpha=1)\n",
      "            \n",
      "            whiskerx = [position, position, position-width, position+width]\n",
      "            \n",
      "            upperwhiskery = [bt, wt, wt, wt]\n",
      "            ax.plot(whiskerx, upperwhiskery, color=cmap(norm(m)))\n",
      "            \n",
      "            lowerwhiskery = [bb, wb, wb, wb]\n",
      "            ax.plot(whiskerx, lowerwhiskery, color=cmap(norm(m)))\n",
      "        \n",
      "    if label:\n",
      "        if orientation=='forest':\n",
      "            ax.set_yticks(positions)\n",
      "            ax.set_yticklabels(label[::-1])#, horizontalalignment='center')\n",
      "        else:\n",
      "            ax.set_xticks(positions)\n",
      "            ax.set_xticklabels(label)\n",
      "            \n",
      "    if orientation=='forest':\n",
      "        ax.set_xscale('log')\n",
      "        ax.plot((1,1), ax.get_ylim(), 'k--')\n",
      "        ax.set_xlabel('Hazard Ratio')\n",
      "        ax.set_xlim(min(whiskerbottom)*.8, max(whiskertop)*1.2)\n",
      "    else:\n",
      "        ax.set_yscale('log')\n",
      "        ax.plot(ax.get_xlim(), (1,1), 'k--')\n",
      "        ax.set_ylabel('Hazard Ratio')\n",
      "        ax.set_ylim(min(whiskerbottom)*.8, max(whiskertop)*1.2)\n",
      "    return ax\n",
      "    "
     ],
     "language": "python",
     "metadata": {},
     "outputs": [],
     "prompt_number": 10
    },
    {
     "cell_type": "code",
     "collapsed": false,
     "input": [
      "#Langleylabels = asarray(factor_labels)\n",
      "\n",
      "#coef = model_data['coef']\n",
      "#expcoef = model_data['expcoef']\n",
      "#lower95 = model_data['lower95']\n",
      "#upper95 = model_data['upper95']\n",
      "#se = model_data['se']\n",
      "#lowerse = exp(coef-se)\n",
      "#upperse = exp(coef+se)\n",
      "\n",
      "def Langleyboxplot(indices, **kwargs):\n",
      "    print(factor_labels[indices])\n",
      "    ax = boxplot(model_data['expcoef'][indices],\n",
      "        exp(model_data['coef']+model_data['se'])[indices], exp(model_data['coef']-model_data['se'])[indices], \n",
      "        model_data['upper95'][indices], model_data['lower95'][indices],\n",
      "        **kwargs)\n",
      "    return ax"
     ],
     "language": "python",
     "metadata": {},
     "outputs": [],
     "prompt_number": 11
    },
    {
     "cell_type": "markdown",
     "metadata": {},
     "source": [
      "Figure 2\n",
      "----"
     ]
    },
    {
     "cell_type": "code",
     "collapsed": false,
     "input": [
      "figwidth = 3.5\n",
      "\n",
      "fig = figure(figsize=(figwidth, figwidth/1.618))\n",
      "ax = fig.add_subplot(111)\n",
      "l = []\n",
      "for i in ['Female', 'Male']:\n",
      "    for j in ['Female', 'Male']:\n",
      "        l.append(r'%s$\\rightarrow$'%j+'\\n'+i)\n",
      "\n",
      "slice_start = 27\n",
      "slice_end = 31\n",
      "ax = Langleyboxplot(range(slice_start, slice_end), label=l, ax=ax)\n",
      "ax.set_yticklabels(l[::-1], horizontalalignment='center')\n",
      "\n",
      "#Getting the ylabels to be placed correctly.\n",
      "plt.draw()\n",
      "yax = ax.get_yaxis()\n",
      "pad = max(T.label.get_window_extent().width for T in yax.majorTicks)\n",
      "yax.set_tick_params(pad=pad/2)\n",
      "\n",
      "ylabel(r'Recruiter Gender $\\rightarrow$' \"\\nRecruit Gender\", horizontalalignment='center')\n",
      "#ax.set_yscale('log')\n",
      "#ax.annotate(\"A\", (0,1.), xycoords=(ax.get_yaxis().get_label(), \"axes fraction\"), \n",
      "#             fontsize=14) \n",
      "\n",
      "#ax = fig.add_subplot(212)\n",
      "#l = ['Parent: Female', 'Parent: Male', 'Child: Female', 'Child: Male']\n",
      "#slice_start = 0\n",
      "#slice_end = 4\n",
      "#ax = Langleyboxplot(range(slice_start, slice_end), label=l, ax=ax)\n",
      "#ax.set_yscale('log')\n",
      "#ax.annotate(\"B\", (0,1.), xycoords=(ax.get_yaxis().get_label(), \"axes fraction\"), \n",
      "#             fontsize=14) \n",
      "\n",
      "\n",
      "\n",
      "\n",
      "#subplots_adjust(hspace=0.5)\n",
      "#suptitle(\"Figure %i\"%fn)\n",
      "#title(\"Figure %i\"%fn)\n",
      "fn+=1\n",
      "figures.append(fig)"
     ],
     "language": "python",
     "metadata": {},
     "outputs": [
      {
       "output_type": "stream",
       "stream": "stdout",
       "text": [
        "['Recruiter_Genderfemale:Genderfemale' 'Recruiter_Gendermale:Genderfemale'\n",
        " 'Recruiter_Genderfemale:Gendermale' 'Recruiter_Gendermale:Gendermale']\n"
       ]
      },
      {
       "metadata": {},
       "output_type": "display_data",
       "png": "[encoded data removed]",
       "text": [
        "<matplotlib.figure.Figure at 0x641f8d0>"
       ]
      }
     ],
     "prompt_number": 12
    },
    {
     "cell_type": "code",
     "collapsed": false,
     "input": [
      "%%R\n",
      "hypothesis = \"Recruiter_Genderfemale:Genderfemale - Recruiter_Gendermale:Gendermale\"\n",
      "q = linearHypothesis(analysis, hypothesis, singular.ok=TRUE, vcov.=V)\n",
      "print(q)"
     ],
     "language": "python",
     "metadata": {},
     "outputs": [
      {
       "metadata": {},
       "output_type": "display_data",
       "text": [
        "Linear hypothesis test\n",
        "\n",
        "Hypothesis:\n",
        "Recruiter_Genderfemale:Genderfemale - Recruiter_Gendermale:Gendermale = 0\n",
        "\n",
        "Model 1: restricted model\n",
        "Model 2: Surv(Registration_Interval_Days) ~ (Recruiter_Gender * Gender) + \n",
        "    (Recruiter_Age * Age) + Location_Comparison + Heard_From + \n",
        "    Same_Heard_From_as_Recruiter + Recruiter_Number_of_Recruits - \n",
        "    1 + Number_of_Recruits + Recruitment_Generation - 1 + Recruiter_Join_Date_Numeric_Days\n",
        "\n",
        "Note: Coefficient covariance matrix supplied.\n",
        "\n",
        "  Res.Df Df  Chisq Pr(>Chisq)  \n",
        "1    898                       \n",
        "2    897  1 4.1239    0.04228 *\n",
        "---\n",
        "Signif. codes:  0 \u2018***\u2019 0.001 \u2018**\u2019 0.01 \u2018*\u2019 0.05 \u2018.\u2019 0.1 \u2018 \u2019 1\n"
       ]
      }
     ],
     "prompt_number": 13
    },
    {
     "cell_type": "markdown",
     "metadata": {},
     "source": [
      "Figure 3\n",
      "----"
     ]
    },
    {
     "cell_type": "code",
     "collapsed": false,
     "input": [
      "figwidth = 7.2\n",
      "\n",
      "fig = figure(figsize=(figwidth, figwidth/1.618))\n",
      "#fig = figure(figsize=(4.6,7.44295635))\n",
      "#fig = figure(figsize=(4.6,2.84295635))\n",
      "#fig = figure(figsize=(2.3,3.7214))\n",
      "annotate_coord = (-.15, 1)\n",
      "\n",
      "ax = fig.add_subplot(121)\n",
      "l = ['Recruiter & Recruit\\n Same Source', 'Recruiter & Recruit\\n Different Source']\n",
      "ax = Langleyboxplot([22, 21], label=l, ax=ax)\n",
      "ax.set_yticklabels(l[::-1], rotation=90, horizontalalignment='center')\n",
      "\n",
      "#Getting the ylabels to be placed correctly.\n",
      "plt.draw()\n",
      "yax = ax.get_yaxis()\n",
      "pad = max(T.label.get_window_extent().width for T in yax.majorTicks)\n",
      "yax.set_tick_params(pad=pad/2)\n",
      "\n",
      "ax.set_xticks([0.5, 1, 10])\n",
      "ax.set_xticklabels([0.5, 1, 10])\n",
      "\n",
      "ax.annotate(\"A\", annotate_coord, xycoords=\"axes fraction\",\n",
      "             fontproperties=panel_label_font) \n",
      "\n",
      "\n",
      "ax = fig.add_subplot(122)\n",
      "l = ['Langley', 'Family', 'Friend', 'Other', 'Organization','Media']\n",
      "indices = [18, 16, 15, 20, 17, 19]\n",
      "ax = Langleyboxplot(indices, label=l, spacing=3, ax=ax)\n",
      "ax.yaxis.tick_right()\n",
      "ax.set_yticklabels(l[::-1], rotation=-45) \n",
      "                   \n",
      "ax.set_xticks([0.5, 1, 10])\n",
      "ax.set_xticklabels([0.5, 1, 10])\n",
      "\n",
      "ylabel('Source from which Recruit First \\nHeard about the Contest')\n",
      "ax.yaxis.set_label_position(\"right\")\n",
      "\n",
      "ax.annotate(\"B\", annotate_coord, xycoords=\"axes fraction\", \n",
      "             fontproperties=panel_label_font) \n",
      "\n",
      "fn+=1\n",
      "figures.append(fig)"
     ],
     "language": "python",
     "metadata": {},
     "outputs": [
      {
       "output_type": "stream",
       "stream": "stdout",
       "text": [
        "['Same_Heard_From_as_Recruiter1' 'Same_Heard_From_as_Recruiter0']\n",
        "['Heard_From4' 'Heard_From2' 'Heard_From1' 'Heard_From100' 'Heard_From3'\n",
        " 'Heard_From5']"
       ]
      },
      {
       "output_type": "stream",
       "stream": "stdout",
       "text": [
        "\n"
       ]
      },
      {
       "metadata": {},
       "output_type": "display_data",
       "png": "[encoded data removed]",
       "text": [
        "<matplotlib.figure.Figure at 0x737d510>"
       ]
      }
     ],
     "prompt_number": 14
    },
    {
     "cell_type": "code",
     "collapsed": false,
     "input": [
      "%%R -o q\n",
      "hypothesis = \"Same_Heard_From_as_Recruiter1 - Same_Heard_From_as_Recruiter0\"\n",
      "q = linearHypothesis(analysis, hypothesis, singular.ok=TRUE, vcov.=V)\n",
      "print(q)"
     ],
     "language": "python",
     "metadata": {},
     "outputs": [
      {
       "metadata": {},
       "output_type": "display_data",
       "text": [
        "Linear hypothesis test\n",
        "\n",
        "Hypothesis:\n",
        "- Same_Heard_From_as_Recruiter0  + Same_Heard_From_as_Recruiter1 = 0\n",
        "\n",
        "Model 1: restricted model\n",
        "Model 2: Surv(Registration_Interval_Days) ~ (Recruiter_Gender * Gender) + \n",
        "    (Recruiter_Age * Age) + Location_Comparison + Heard_From + \n",
        "    Same_Heard_From_as_Recruiter + Recruiter_Number_of_Recruits - \n",
        "    1 + Number_of_Recruits + Recruitment_Generation - 1 + Recruiter_Join_Date_Numeric_Days\n",
        "\n",
        "Note: Coefficient covariance matrix supplied.\n",
        "\n",
        "  Res.Df Df  Chisq Pr(>Chisq)    \n",
        "1    898                         \n",
        "2    897  1 14.606  0.0001325 ***\n",
        "---\n",
        "Signif. codes:  0 \u2018***\u2019 0.001 \u2018**\u2019 0.01 \u2018*\u2019 0.05 \u2018.\u2019 0.1 \u2018 \u2019 1\n"
       ]
      }
     ],
     "prompt_number": 15
    },
    {
     "cell_type": "code",
     "collapsed": false,
     "input": [
      "%%R -o q\n",
      "hypothesis = \"Heard_From4 - Heard_From5\"\n",
      "q = linearHypothesis(analysis, hypothesis, singular.ok=TRUE, vcov.=V)\n",
      "print(q)"
     ],
     "language": "python",
     "metadata": {},
     "outputs": [
      {
       "metadata": {},
       "output_type": "display_data",
       "text": [
        "Linear hypothesis test\n",
        "\n",
        "Hypothesis:\n",
        "Heard_From4 - Heard_From5 = 0\n",
        "\n",
        "Model 1: restricted model\n",
        "Model 2: Surv(Registration_Interval_Days) ~ (Recruiter_Gender * Gender) + \n",
        "    (Recruiter_Age * Age) + Location_Comparison + Heard_From + \n",
        "    Same_Heard_From_as_Recruiter + Recruiter_Number_of_Recruits - \n",
        "    1 + Number_of_Recruits + Recruitment_Generation - 1 + Recruiter_Join_Date_Numeric_Days\n",
        "\n",
        "Note: Coefficient covariance matrix supplied.\n",
        "\n",
        "  Res.Df Df  Chisq Pr(>Chisq)    \n",
        "1    898                         \n",
        "2    897  1 11.619  0.0006529 ***\n",
        "---\n",
        "Signif. codes:  0 \u2018***\u2019 0.001 \u2018**\u2019 0.01 \u2018*\u2019 0.05 \u2018.\u2019 0.1 \u2018 \u2019 1\n"
       ]
      }
     ],
     "prompt_number": 16
    },
    {
     "cell_type": "markdown",
     "metadata": {},
     "source": [
      "Figure 4\n",
      "----"
     ]
    },
    {
     "cell_type": "code",
     "collapsed": false,
     "input": [
      "figwidth = 3.5\n",
      "\n",
      "fig = figure(figsize=(figwidth, figwidth/1.618))\n",
      "\n",
      "ax = fig.add_subplot(111)\n",
      "l = ['Different\\nCountry', 'Different\\nCity', 'Same\\nCity']\n",
      "ax = Langleyboxplot([13,12,14], label=l, ax=ax)\n",
      "#ax.set_xticklabels([ax.get_xlim()[0], 1, ax.get_xlim()[1]])\n",
      "ax.set_xticks([1, 2, 3])\n",
      "ax.get_xaxis().set_major_formatter(matplotlib.ticker.ScalarFormatter())\n",
      "\n",
      "#title(\"Figure %i\"%fn)\n",
      "fn+=1\n",
      "figures.append(fig)"
     ],
     "language": "python",
     "metadata": {},
     "outputs": [
      {
       "output_type": "stream",
       "stream": "stdout",
       "text": [
        "['Location_ComparisonDifferent Country' 'Location_ComparisonDifferent City'\n",
        " 'Location_ComparisonSame City']\n"
       ]
      },
      {
       "metadata": {},
       "output_type": "display_data",
       "png": "[encoded data removed]",
       "text": [
        "<matplotlib.figure.Figure at 0x6426850>"
       ]
      }
     ],
     "prompt_number": 17
    },
    {
     "cell_type": "code",
     "collapsed": false,
     "input": [
      "%%R -o q\n",
      "hypothesis = \"Location_ComparisonDifferent Country - Location_ComparisonSame City\"\n",
      "q = linearHypothesis(analysis, hypothesis, singular.ok=TRUE, vcov.=V)\n",
      "print(q)"
     ],
     "language": "python",
     "metadata": {},
     "outputs": [
      {
       "metadata": {},
       "output_type": "display_data",
       "text": [
        "Linear hypothesis test\n",
        "\n",
        "Hypothesis:\n",
        "Location_ComparisonDifferent Country - Location_ComparisonSame City = 0\n",
        "\n",
        "Model 1: restricted model\n",
        "Model 2: Surv(Registration_Interval_Days) ~ (Recruiter_Gender * Gender) + \n",
        "    (Recruiter_Age * Age) + Location_Comparison + Heard_From + \n",
        "    Same_Heard_From_as_Recruiter + Recruiter_Number_of_Recruits - \n",
        "    1 + Number_of_Recruits + Recruitment_Generation - 1 + Recruiter_Join_Date_Numeric_Days\n",
        "\n",
        "Note: Coefficient covariance matrix supplied.\n",
        "\n",
        "  Res.Df Df  Chisq Pr(>Chisq)   \n",
        "1    898                        \n",
        "2    897  1 6.7746   0.009246 **\n",
        "---\n",
        "Signif. codes:  0 \u2018***\u2019 0.001 \u2018**\u2019 0.01 \u2018*\u2019 0.05 \u2018.\u2019 0.1 \u2018 \u2019 1\n"
       ]
      }
     ],
     "prompt_number": 18
    },
    {
     "cell_type": "markdown",
     "metadata": {},
     "source": [
      "Figure 5\n",
      "-----"
     ]
    },
    {
     "cell_type": "code",
     "collapsed": false,
     "input": [
      "figwidth = 3.5\n",
      "\n",
      "fig = figure(figsize=(7.2,7.2*1.618))\n",
      "\n",
      "l = [\"<20\", \"20-40\", \"40-60\", \">60\"]\n",
      "fontsize=8\n",
      "ax1 = fig.add_subplot(441)\n",
      "        \n",
      "indices = range(31,47,4)\n",
      "ax1 = Langleyboxplot(indices, label=l, ax=ax1, orientation='box')\n",
      "xl = xlim()\n",
      "xlim(xl[0], xl[1]+.5)\n",
      "\n",
      "ax1.set_xticklabels(l, fontsize=fontsize)\n",
      "text(-.01, -.1, 'Recruit Age:', transform = ax1.transAxes, horizontalalignment='right')\n",
      "text(-.01, -.25, 'Recruiter Age:', transform = ax1.transAxes, horizontalalignment='right')\n",
      "\n",
      "group=\"<20\"\n",
      "t = ax1.get_xticks()\n",
      "offset = 10**-4.5\n",
      "text(mean(t[1:3]), offset, group, horizontalalignment='center')\n",
      "\n",
      "ax1.annotate(\"A\", (0,1.), xycoords=(ax1.get_yaxis().get_label(), \"axes fraction\"), \n",
      "             fontproperties=panel_label_font) \n",
      "\n",
      "\n",
      "########\n",
      "ax = fig.add_subplot(442, sharey=ax1)\n",
      "        \n",
      "indices = range(32,47,4)\n",
      "ax = Langleyboxplot(indices, ax=ax, label=l, orientation='box')\n",
      "ax.set_xticklabels(l, fontsize=fontsize)\n",
      "\n",
      "group=\"20-40\"\n",
      "t = ax.get_xticks()\n",
      "offset = 10**-4.5\n",
      "text(mean(t[1:3]), offset, group, horizontalalignment='center')\n",
      "\n",
      "ax.set_ylabel(\"\")\n",
      "setp( ax.get_yticklabels(), visible=False)\n",
      "\n",
      "########\n",
      "ax = fig.add_subplot(443, sharey=ax1)\n",
      "        \n",
      "indices = range(33,47,4)\n",
      "ax = Langleyboxplot(indices, label=l, ax=ax, orientation='box')\n",
      "ax.set_xticklabels(l, fontsize=fontsize)\n",
      "\n",
      "group=\"40-60\"\n",
      "t = ax.get_xticks()\n",
      "offset = 10**-4.5\n",
      "text(mean(t[1:3]), offset, group, horizontalalignment='center')\n",
      "\n",
      "ax.set_ylabel(\"\")\n",
      "setp( ax.get_yticklabels(), visible=False)\n",
      "ax.set_ylim(10**-3,10**3)\n",
      "\n",
      "########\n",
      "ax = fig.add_subplot(444)\n",
      "        \n",
      "indices = range(34,47,4)\n",
      "ax = Langleyboxplot(indices, label=l, ax=ax, orientation='box')\n",
      "ax.set_xticklabels(l, fontsize=fontsize)\n",
      "\n",
      "group=\">60\"\n",
      "t = ax.get_xticks()\n",
      "offset = 10**-4.5\n",
      "text(mean(t[1:3]), offset, group, horizontalalignment='center')\n",
      "\n",
      "\n",
      "ax.set_ylabel(\"\")\n",
      "setp( ax.get_yticklabels(), visible=False)\n",
      "ax.set_ylim(10**-3,10**3)\n",
      "\n",
      "xl = xlim()\n",
      "xlim(xl[0]-.5, xl[1]+.5)\n",
      "\n",
      "#########\n",
      "ax = fig.add_subplot(412)\n",
      "l = [\"<20\", \"20-40\", \"40-60\", \">60\"]\n",
      "slice_start = 8\n",
      "slice_end = 12\n",
      "ax = Langleyboxplot(range(slice_start, slice_end), label=l, ax=ax, orientation='box')\n",
      "xlabel('Recruit Age Group')\n",
      "ax.set_yscale('log')\n",
      "ax.annotate(\"B\", (0,1.), xycoords=(ax.get_yaxis().get_label(), \"axes fraction\"), \n",
      "             fontproperties=panel_label_font) \n",
      "\n",
      "#########\n",
      "ax1 = fig.add_subplot(4,4,9)\n",
      "\n",
      "l = [\"<20\", \"20-40\", \"40-60\", \">60\"]\n",
      "\n",
      "        \n",
      "indices = range(31,35)\n",
      "ax1 = Langleyboxplot(indices, label=l, ax=ax1, orientation='box')\n",
      "xl = xlim()\n",
      "xlim(xl[0], xl[1]+.5)\n",
      "ax1.set_xticklabels(l, fontsize=fontsize)\n",
      "\n",
      "#ax1.set_xticklabels([\"<20\", \"20-40\", \"40-60\", \">60\"], fontsize=8)\n",
      "text(-.01, -.1, 'Recruiter Age:', transform = ax1.transAxes, horizontalalignment='right')\n",
      "text(-.01, -.25, 'Recruit Age:', transform = ax1.transAxes, horizontalalignment='right')\n",
      "\n",
      "group=\"<20\"\n",
      "t = ax.get_xticks()\n",
      "offset = 10**-4.5\n",
      "text(mean(t[1:3]), offset, group, horizontalalignment='center')\n",
      "\n",
      "ax1.annotate(\"C\", (0,1.), xycoords=(ax1.get_yaxis().get_label(), \"axes fraction\"), \n",
      "             fontproperties=panel_label_font) \n",
      "\n",
      "\n",
      "########\n",
      "ax = fig.add_subplot(4,4,10, sharey=ax1)\n",
      "        \n",
      "indices = range(35,39)\n",
      "ax = Langleyboxplot(indices, ax=ax, label=l, orientation='box')\n",
      "ax.set_xticklabels(l, fontsize=fontsize)\n",
      "\n",
      "group=\"20-40\"\n",
      "t = ax.get_xticks()\n",
      "offset = 10**-4.5\n",
      "text(mean(t[1:3]), offset, group, horizontalalignment='center')\n",
      "\n",
      "ax.set_ylabel(\"\")\n",
      "setp( ax.get_yticklabels(), visible=False)\n",
      "\n",
      "########\n",
      "ax = fig.add_subplot(4,4,11, sharey=ax1)\n",
      "        \n",
      "indices = range(39,43)\n",
      "ax = Langleyboxplot(indices, label=l, ax=ax, orientation='box')\n",
      "ax.set_xticklabels(l, fontsize=fontsize)\n",
      "\n",
      "group=\"40-60\"\n",
      "t = ax.get_xticks()\n",
      "offset = 10**-4.5\n",
      "text(mean(t[1:3]), offset, group, horizontalalignment='center')\n",
      "\n",
      "ax.set_ylabel(\"\")\n",
      "setp( ax.get_yticklabels(), visible=False)\n",
      "ax.set_ylim(10**-3,10**3)\n",
      "\n",
      "########\n",
      "ax = fig.add_subplot(4,4,12)\n",
      "        \n",
      "indices = range(43,47)\n",
      "ax = Langleyboxplot(indices, label=l, ax=ax, orientation='box')\n",
      "ax.set_xticklabels(l, fontsize=fontsize)\n",
      "\n",
      "group=\">60\"\n",
      "t = ax.get_xticks()\n",
      "offset = 10**-4.5\n",
      "text(mean(t[1:3]), offset, group, horizontalalignment='center')\n",
      "\n",
      "\n",
      "ax.set_ylabel(\"\")\n",
      "setp( ax.get_yticklabels(), visible=False)\n",
      "ax.set_ylim(10**-3,10**3)\n",
      "\n",
      "xl = xlim()\n",
      "xlim(xl[0]-.5, xl[1]+.5)\n",
      "\n",
      "\n",
      "#########\n",
      "ax = fig.add_subplot(414)\n",
      "l = [\"<20\", \"20-40\", \"40-60\", \">60\"]\n",
      "slice_start = 4\n",
      "slice_end = 8\n",
      "ax = Langleyboxplot(range(slice_start, slice_end), label=l, ax=ax, orientation='box')\n",
      "xlabel('Recruiter Age Group')\n",
      "ax.set_yscale('log')\n",
      "ax.annotate(\"D\", (0,1.), xycoords=(ax.get_yaxis().get_label(), \"axes fraction\"), \n",
      "             fontproperties=panel_label_font) \n",
      "\n",
      "subplots_adjust(hspace=0.5)\n",
      "#suptitle(\"Figure %i\"%fn)\n",
      "fn+=1\n",
      "figures.append(fig)"
     ],
     "language": "python",
     "metadata": {},
     "outputs": [
      {
       "output_type": "stream",
       "stream": "stdout",
       "text": [
        "['Recruiter_Age1:Age1' 'Recruiter_Age1:Age2' 'Recruiter_Age1:Age3'\n",
        " 'Recruiter_Age1:Age4']\n",
        "['Recruiter_Age2:Age1' 'Recruiter_Age2:Age2' 'Recruiter_Age2:Age3'\n",
        " 'Recruiter_Age2:Age4']"
       ]
      },
      {
       "output_type": "stream",
       "stream": "stdout",
       "text": [
        "\n",
        "['Recruiter_Age3:Age1' 'Recruiter_Age3:Age2' 'Recruiter_Age3:Age3'\n",
        " 'Recruiter_Age3:Age4']"
       ]
      },
      {
       "output_type": "stream",
       "stream": "stdout",
       "text": [
        "\n",
        "['Recruiter_Age4:Age1' 'Recruiter_Age4:Age2' 'Recruiter_Age4:Age3'\n",
        " 'Recruiter_Age4:Age4']"
       ]
      },
      {
       "output_type": "stream",
       "stream": "stdout",
       "text": [
        "\n",
        "['Age1' 'Age2' 'Age3' 'Age4']"
       ]
      },
      {
       "output_type": "stream",
       "stream": "stdout",
       "text": [
        "\n",
        "['Recruiter_Age1:Age1' 'Recruiter_Age2:Age1' 'Recruiter_Age3:Age1'\n",
        " 'Recruiter_Age4:Age1']"
       ]
      },
      {
       "output_type": "stream",
       "stream": "stdout",
       "text": [
        "\n",
        "['Recruiter_Age1:Age2' 'Recruiter_Age2:Age2' 'Recruiter_Age3:Age2'\n",
        " 'Recruiter_Age4:Age2']"
       ]
      },
      {
       "output_type": "stream",
       "stream": "stdout",
       "text": [
        "\n",
        "['Recruiter_Age1:Age3' 'Recruiter_Age2:Age3' 'Recruiter_Age3:Age3'\n",
        " 'Recruiter_Age4:Age3']"
       ]
      },
      {
       "output_type": "stream",
       "stream": "stdout",
       "text": [
        "\n",
        "['Recruiter_Age1:Age4' 'Recruiter_Age2:Age4' 'Recruiter_Age3:Age4'\n",
        " 'Recruiter_Age4:Age4']"
       ]
      },
      {
       "output_type": "stream",
       "stream": "stdout",
       "text": [
        "\n",
        "['Recruiter_Age1' 'Recruiter_Age2' 'Recruiter_Age3' 'Recruiter_Age4']"
       ]
      },
      {
       "output_type": "stream",
       "stream": "stdout",
       "text": [
        "\n"
       ]
      },
      {
       "output_type": "stream",
       "stream": "stderr",
       "text": [
        "/home/alstottjd/JeffPython/lib/python2.7/site-packages/numpy/ma/core.py:3791: UserWarning: Warning: converting a masked element to nan.\n",
        "  warnings.warn(\"Warning: converting a masked element to nan.\")\n"
       ]
      },
      {
       "metadata": {},
       "output_type": "display_data",
       "png": "[encoded data removed]",
       "text": [
        "<matplotlib.figure.Figure at 0x7ca4790>"
       ]
      }
     ],
     "prompt_number": 19
    },
    {
     "cell_type": "code",
     "collapsed": false,
     "input": [
      "%%R -o q\n",
      "hypothesis = \"Age1 - Age4\"\n",
      "q = linearHypothesis(analysis, hypothesis, singular.ok=TRUE, vcov.=V)\n",
      "print(q)"
     ],
     "language": "python",
     "metadata": {},
     "outputs": [
      {
       "metadata": {},
       "output_type": "display_data",
       "text": [
        "Linear hypothesis test\n",
        "\n",
        "Hypothesis:\n",
        "Age1 - Age4 = 0\n",
        "\n",
        "Model 1: restricted model\n",
        "Model 2: Surv(Registration_Interval_Days) ~ (Recruiter_Gender * Gender) + \n",
        "    (Recruiter_Age * Age) + Location_Comparison + Heard_From + \n",
        "    Same_Heard_From_as_Recruiter + Recruiter_Number_of_Recruits - \n",
        "    1 + Number_of_Recruits + Recruitment_Generation - 1 + Recruiter_Join_Date_Numeric_Days\n",
        "\n",
        "Note: Coefficient covariance matrix supplied.\n",
        "\n",
        "  Res.Df Df  Chisq Pr(>Chisq)  \n",
        "1    898                       \n",
        "2    897  1 5.0725    0.02431 *\n",
        "---\n",
        "Signif. codes:  0 \u2018***\u2019 0.001 \u2018**\u2019 0.01 \u2018*\u2019 0.05 \u2018.\u2019 0.1 \u2018 \u2019 1\n"
       ]
      }
     ],
     "prompt_number": 20
    },
    {
     "cell_type": "markdown",
     "metadata": {},
     "source": [
      "Supporting Information\n",
      "----"
     ]
    },
    {
     "cell_type": "markdown",
     "metadata": {},
     "source": [
      "Figure S1: Mobilization speed descriptive statistics\n",
      "----"
     ]
    },
    {
     "cell_type": "code",
     "collapsed": false,
     "input": [
      "%%R -o mobilization_times\n",
      "mobilization_times = mydata$Registration_Interval_Days"
     ],
     "language": "python",
     "metadata": {},
     "outputs": [],
     "prompt_number": 21
    },
    {
     "cell_type": "code",
     "collapsed": false,
     "input": [
      "print(mean(mobilization_times))\n",
      "print(median(mobilization_times))\n",
      "print(std(mobilization_times))\n",
      "from scipy.stats import skew\n",
      "print skew(mobilization_times)\n",
      "\n",
      "figwidth = 3.5\n",
      "figsize(figwidth, figwidth/1.618)\n",
      "hist(mobilization_times)\n",
      "xlabel(\"Mobilization Speed (Days)\")\n",
      "ylabel(\"Participant Count\")\n",
      "figures.append(gcf())"
     ],
     "language": "python",
     "metadata": {},
     "outputs": [
      {
       "output_type": "stream",
       "stream": "stdout",
       "text": [
        "6.73429829968\n",
        "4.587\n",
        "7.23874412057\n",
        "1.07999014983"
       ]
      },
      {
       "output_type": "stream",
       "stream": "stdout",
       "text": [
        "\n"
       ]
      },
      {
       "metadata": {},
       "output_type": "display_data",
       "png": "[encoded data removed]",
       "text": [
        "<matplotlib.figure.Figure at 0x7c8b550>"
       ]
      }
     ],
     "prompt_number": 22
    },
    {
     "cell_type": "code",
     "collapsed": false,
     "input": [
      "import powerlaw\n",
      "fit = powerlaw.Fit(mobilization_times)\n",
      "fit.plot_ccdf()\n",
      "fit.power_law.plot_ccdf()\n",
      "fit.exponential.plot_ccdf()\n",
      "fit.lognormal.plot_ccdf()\n",
      "print fit.distribution_compare('lognormal', 'exponential')\n",
      "\n",
      "figure()\n",
      "fit = powerlaw.Fit(mobilization_times, xmin=1)\n",
      "fit.plot_ccdf()\n",
      "fit.power_law.plot_ccdf()\n",
      "fit.exponential.plot_ccdf()\n",
      "fit.lognormal.plot_ccdf()\n",
      "print fit.distribution_compare('lognormal', 'exponential')"
     ],
     "language": "python",
     "metadata": {},
     "outputs": [
      {
       "output_type": "stream",
       "stream": "stdout",
       "text": [
        "Calculating best minimal value for power law fit\n",
        "(-9.1451516945643121, 0.0059162266367212358)"
       ]
      },
      {
       "output_type": "stream",
       "stream": "stdout",
       "text": [
        "\n",
        "(-11.068922374823309, 0.13396529735959001)"
       ]
      },
      {
       "output_type": "stream",
       "stream": "stdout",
       "text": [
        "\n"
       ]
      },
      {
       "metadata": {},
       "output_type": "display_data",
       "png": "[encoded data removed]",
       "text": [
        "<matplotlib.figure.Figure at 0xb42d790>"
       ]
      },
      {
       "metadata": {},
       "output_type": "display_data",
       "png": "[encoded data removed]",
       "text": [
        "<matplotlib.figure.Figure at 0xb5eb990>"
       ]
      }
     ],
     "prompt_number": 23
    },
    {
     "cell_type": "markdown",
     "metadata": {},
     "source": [
      "SI: Model Checking\n",
      "----"
     ]
    },
    {
     "cell_type": "code",
     "collapsed": false,
     "input": [
      "%%R\n",
      "print(summary(analysis))"
     ],
     "language": "python",
     "metadata": {},
     "outputs": [
      {
       "metadata": {},
       "output_type": "display_data",
       "text": [
        "Call:\n",
        "coxph(formula = Surv(Registration_Interval_Days) ~ (Recruiter_Gender * \n",
        "    Gender) + (Recruiter_Age * Age) + Location_Comparison + Heard_From + \n",
        "    Same_Heard_From_as_Recruiter + Recruiter_Number_of_Recruits - \n",
        "    1 + Number_of_Recruits + Recruitment_Generation - 1 + Recruiter_Join_Date_Numeric_Days, \n",
        "    data = mydata, singular.ok = TRUE)\n",
        "\n",
        "  n= 941, number of events= 941 \n",
        "\n",
        "                                           coef  exp(coef)   se(coef)      z\n",
        "Recruiter_Genderfemale               -4.1661551  0.0155118  0.5810791 -7.170\n",
        "Recruiter_Gendermale                 -3.8310955  0.0216858  0.6073329 -6.308\n",
        "Genderfemale                         -3.5926614  0.0275250  0.6690696 -5.370\n",
        "Gendermale                           -2.6646905  0.0696209  0.6949402 -3.834\n",
        "Recruiter_Age1                       -1.8819547  0.1522921  0.3143813 -5.986\n",
        "Recruiter_Age2                       -0.4011741  0.6695335  0.2514952 -1.595\n",
        "Recruiter_Age3                       -0.8236258  0.4388376  0.2546493 -3.234\n",
        "Recruiter_Age4                        3.2676520 26.2496339  0.8176074  3.997\n",
        "Age1                                  1.6275829  5.0915531  0.7619583  2.136\n",
        "Age2                                  0.5511278  1.7352089  0.4764595  1.157\n",
        "Age3                                  0.1803158  1.1975955  0.5493941  0.328\n",
        "Age4                                 -0.5106409  0.6001109  0.8981304 -0.569\n",
        "Location_ComparisonDifferent City     0.5750173  1.7771614  0.0968779  5.935\n",
        "Location_ComparisonDifferent Country  0.3130847  1.3676374  0.1028427  3.044\n",
        "Location_ComparisonSame City          0.7239667  2.0625987  0.1472898  4.915\n",
        "Heard_From1                          -0.0505213  0.9507337  0.4304619 -0.117\n",
        "Heard_From2                           0.3046651  1.3561707  0.4521540  0.674\n",
        "Heard_From3                          -0.3336403  0.7163114  0.4529422 -0.737\n",
        "Heard_From4                           1.1826669  3.2630649  0.6765947  1.748\n",
        "Heard_From5                          -0.7355577  0.4792381  0.4743151 -1.551\n",
        "Heard_From100                        -0.1303436  0.8777938  0.4497777 -0.290\n",
        "Same_Heard_From_as_Recruiter0         0.7861359  2.1948987  0.4238550  1.855\n",
        "Same_Heard_From_as_Recruiter1         1.3529446  3.8688007  0.4349198  3.111\n",
        "Recruiter_Number_of_Recruits         -0.0038045  0.9962027  0.0005692 -6.684\n",
        "Number_of_Recruits                    0.1023681  1.1077911  0.0212003  4.829\n",
        "Recruitment_Generation               -0.2563435  0.7738761  0.0567386 -4.518\n",
        "Recruiter_Join_Date_Numeric_Days      0.1436428  1.1544717  0.0095844 14.987\n",
        "Recruiter_Genderfemale:Genderfemale   4.1357597 62.5370841  0.6789139  6.092\n",
        "Recruiter_Gendermale:Genderfemale     3.9906476 54.0899076  0.6956064  5.737\n",
        "Recruiter_Genderfemale:Gendermale     3.2650053 26.1802492  0.7118796  4.586\n",
        "Recruiter_Gendermale:Gendermale       2.9750709 19.5910129  0.7182420  4.142\n",
        "Recruiter_Age1:Age1                  -1.3108413  0.2695932  0.7331189 -1.788\n",
        "Recruiter_Age2:Age1                  -2.2979658  0.1004630  0.8103208 -2.836\n",
        "Recruiter_Age3:Age1                  -3.0937013  0.0453338  0.8931004 -3.464\n",
        "Recruiter_Age4:Age1                          NA         NA  0.0000000     NA\n",
        "Recruiter_Age1:Age2                  -0.1783815  0.8366232  0.4257808 -0.419\n",
        "Recruiter_Age2:Age2                  -1.1325395  0.3222140  0.4889327 -2.316\n",
        "Recruiter_Age3:Age2                  -1.4344327  0.2382505  0.5230867 -2.742\n",
        "Recruiter_Age4:Age2                  -4.5232072  0.0108542  1.1846661 -3.818\n",
        "Recruiter_Age1:Age3                   4.3771879 79.6138379  1.2001662  3.647\n",
        "Recruiter_Age2:Age3                  -0.7729580  0.4616455  0.5641488 -1.370\n",
        "Recruiter_Age3:Age3                  -0.3882388  0.6782504  0.5621597 -0.691\n",
        "Recruiter_Age4:Age3                  -4.1192020  0.0162575  1.1515627 -3.577\n",
        "Recruiter_Age1:Age4                          NA         NA  0.0000000     NA\n",
        "Recruiter_Age2:Age4                  -0.0902611  0.9136926  0.9314525 -0.097\n",
        "Recruiter_Age3:Age4                   0.1572000  1.1702296  0.9915563  0.159\n",
        "Recruiter_Age4:Age4                          NA         NA  0.0000000     NA\n",
        "                                     Pr(>|z|)    \n",
        "Recruiter_Genderfemale               7.52e-13 ***\n",
        "Recruiter_Gendermale                 2.83e-10 ***\n",
        "Genderfemale                         7.89e-08 ***\n",
        "Gendermale                           0.000126 ***\n",
        "Recruiter_Age1                       2.15e-09 ***\n",
        "Recruiter_Age2                       0.110677    \n",
        "Recruiter_Age3                       0.001219 ** \n",
        "Recruiter_Age4                       6.43e-05 ***\n",
        "Age1                                 0.032675 *  \n",
        "Age2                                 0.247389    \n",
        "Age3                                 0.742754    \n",
        "Age4                                 0.569655    \n",
        "Location_ComparisonDifferent City    2.93e-09 ***\n",
        "Location_ComparisonDifferent Country 0.002332 ** \n",
        "Location_ComparisonSame City         8.87e-07 ***\n",
        "Heard_From1                          0.906571    \n",
        "Heard_From2                          0.500433    \n",
        "Heard_From3                          0.461361    \n",
        "Heard_From4                          0.080469 .  \n",
        "Heard_From5                          0.120955    \n",
        "Heard_From100                        0.771973    \n",
        "Same_Heard_From_as_Recruiter0        0.063635 .  \n",
        "Same_Heard_From_as_Recruiter1        0.001866 ** \n",
        "Recruiter_Number_of_Recruits         2.33e-11 ***\n",
        "Number_of_Recruits                   1.37e-06 ***\n",
        "Recruitment_Generation               6.24e-06 ***\n",
        "Recruiter_Join_Date_Numeric_Days      < 2e-16 ***\n",
        "Recruiter_Genderfemale:Genderfemale  1.12e-09 ***\n",
        "Recruiter_Gendermale:Genderfemale    9.64e-09 ***\n",
        "Recruiter_Genderfemale:Gendermale    4.51e-06 ***\n",
        "Recruiter_Gendermale:Gendermale      3.44e-05 ***\n",
        "Recruiter_Age1:Age1                  0.073771 .  \n",
        "Recruiter_Age2:Age1                  0.004570 ** \n",
        "Recruiter_Age3:Age1                  0.000532 ***\n",
        "Recruiter_Age4:Age1                        NA    \n",
        "Recruiter_Age1:Age2                  0.675252    \n",
        "Recruiter_Age2:Age2                  0.020539 *  \n",
        "Recruiter_Age3:Age2                  0.006102 ** \n",
        "Recruiter_Age4:Age2                  0.000134 ***\n",
        "Recruiter_Age1:Age3                  0.000265 ***\n",
        "Recruiter_Age2:Age3                  0.170646    \n",
        "Recruiter_Age3:Age3                  0.489804    \n",
        "Recruiter_Age4:Age3                  0.000347 ***\n",
        "Recruiter_Age1:Age4                        NA    \n",
        "Recruiter_Age2:Age4                  0.922803    \n",
        "Recruiter_Age3:Age4                  0.874032    \n",
        "Recruiter_Age4:Age4                        NA    \n",
        "---\n",
        "Signif. codes:  0 \u2018***\u2019 0.001 \u2018**\u2019 0.01 \u2018*\u2019 0.05 \u2018.\u2019 0.1 \u2018 \u2019 1\n",
        "\n",
        "                                     exp(coef) exp(-coef) lower .95 upper .95\n",
        "Recruiter_Genderfemale                 0.01551   64.46711  0.004966   0.04845\n",
        "Recruiter_Gendermale                   0.02169   46.11303  0.006595   0.07131\n",
        "Genderfemale                           0.02752   36.33064  0.007417   0.10215\n",
        "Gendermale                             0.06962   14.36350  0.017832   0.27182\n",
        "Recruiter_Age1                         0.15229    6.56633  0.082239   0.28202\n",
        "Recruiter_Age2                         0.66953    1.49358  0.408977   1.09609\n",
        "Recruiter_Age3                         0.43884    2.27875  0.266407   0.72287\n",
        "Recruiter_Age4                        26.24963    0.03810  5.286577 130.33827\n",
        "Age1                                   5.09155    0.19640  1.143590  22.66890\n",
        "Age2                                   1.73521    0.57630  0.682007   4.41484\n",
        "Age3                                   1.19760    0.83501  0.408005   3.51524\n",
        "Age4                                   0.60011    1.66636  0.103215   3.48916\n",
        "Location_ComparisonDifferent City      1.77716    0.56270  1.469820   2.14877\n",
        "Location_ComparisonDifferent Country   1.36764    0.73119  1.117972   1.67306\n",
        "Location_ComparisonSame City           2.06260    0.48483  1.545402   2.75289\n",
        "Heard_From1                            0.95073    1.05182  0.408930   2.21039\n",
        "Heard_From2                            1.35617    0.73737  0.559037   3.28994\n",
        "Heard_From3                            0.71631    1.39604  0.294820   1.74039\n",
        "Heard_From4                            3.26306    0.30646  0.866378  12.28978\n",
        "Heard_From5                            0.47924    2.08665  0.189153   1.21420\n",
        "Heard_From100                          0.87779    1.13922  0.363531   2.11955\n",
        "Same_Heard_From_as_Recruiter0          2.19490    0.45560  0.956376   5.03733\n",
        "Same_Heard_From_as_Recruiter1          3.86880    0.25848  1.649575   9.07362\n",
        "Recruiter_Number_of_Recruits           0.99620    1.00381  0.995092   0.99731\n",
        "Number_of_Recruits                     1.10779    0.90270  1.062704   1.15479\n",
        "Recruitment_Generation                 0.77388    1.29220  0.692429   0.86490\n",
        "Recruiter_Join_Date_Numeric_Days       1.15447    0.86620  1.132987   1.17636\n",
        "Recruiter_Genderfemale:Genderfemale   62.53708    0.01599 16.528942 236.60843\n",
        "Recruiter_Gendermale:Genderfemale     54.08991    0.01849 13.836142 211.45476\n",
        "Recruiter_Genderfemale:Gendermale     26.18025    0.03820  6.486655 105.66393\n",
        "Recruiter_Gendermale:Gendermale       19.59101    0.05104  4.793891  80.06185\n",
        "Recruiter_Age1:Age1                    0.26959    3.70929  0.064073   1.13433\n",
        "Recruiter_Age2:Age1                    0.10046    9.95391  0.020524   0.49176\n",
        "Recruiter_Age3:Age1                    0.04533   22.05857  0.007874   0.26099\n",
        "Recruiter_Age4:Age1                         NA         NA        NA        NA\n",
        "Recruiter_Age1:Age2                    0.83662    1.19528  0.363166   1.92733\n",
        "Recruiter_Age2:Age2                    0.32221    3.10353  0.123585   0.84009\n",
        "Recruiter_Age3:Age2                    0.23825    4.19726  0.085464   0.66418\n",
        "Recruiter_Age4:Age2                    0.01085   92.13061  0.001065   0.11066\n",
        "Recruiter_Age1:Age3                   79.61384    0.01256  7.575395 836.70401\n",
        "Recruiter_Age2:Age3                    0.46165    2.16616  0.152793   1.39480\n",
        "Recruiter_Age3:Age3                    0.67825    1.47438  0.225361   2.04127\n",
        "Recruiter_Age4:Age3                    0.01626   61.51014  0.001702   0.15533\n",
        "Recruiter_Age1:Age4                         NA         NA        NA        NA\n",
        "Recruiter_Age2:Age4                    0.91369    1.09446  0.147213   5.67093\n",
        "Recruiter_Age3:Age4                    1.17023    0.85453  0.167593   8.17119\n",
        "Recruiter_Age4:Age4                         NA         NA        NA        NA\n",
        "\n",
        "Concordance= 0.81  (se = 0.011 )\n",
        "Rsquare= 0.666   (max possible= 1 )\n",
        "Likelihood ratio test= 1031  on 44 df,   p=0\n",
        "Wald test            = 925.8  on 44 df,   p=0\n",
        "Score (logrank) test = 1167  on 44 df,   p=0\n",
        "\n"
       ]
      }
     ],
     "prompt_number": 24
    },
    {
     "cell_type": "code",
     "collapsed": false,
     "input": [
      "%%R\n",
      "pdf('Model_Fit_Supporting_Information.pdf', paper=\"a4\", height=9)\n",
      "par(mfrow = c(4,3))\n",
      "zph<-cox.zph(analysis)\n",
      "target_variables<-which(\n",
      "    ( \n",
      "    #All the target variables are either an interaction or one of the \"Heard_From\" factors.\n",
      "    grepl(\":\", rownames(zph$table)) | \n",
      "    grepl(\"Heard_From\", rownames(zph$table))\n",
      "    ) &\n",
      "    !is.na(zph$table[,1])\n",
      "    )\n",
      "plot(zph[target_variables])"
     ],
     "language": "python",
     "metadata": {},
     "outputs": [],
     "prompt_number": 25
    },
    {
     "cell_type": "markdown",
     "metadata": {},
     "source": [
      "Figure S2: Other Control Variables\n",
      "----"
     ]
    },
    {
     "cell_type": "code",
     "collapsed": false,
     "input": [
      "figwidth = 3.5\n",
      "\n",
      "fig = plt.figure(figsize=(figwidth, figwidth/1.618))\n",
      "\n",
      "ax = fig.add_subplot(111)\n",
      "l = ['Additional Day after\\nRegistration Opened\\n(Inverse of Days Left Until Contest)', \n",
      "     'Additional Generation\\nin Team after the First',\n",
      "    \"Recruit Recruiting an\\n Additional Future Recruit\"]\n",
      "\n",
      "slice_start = 24\n",
      "slice_end = 27\n",
      "ax = Langleyboxplot([26, 25,24], label=l, ax=ax, orientation='forest')\n",
      "#ax.set_yticks([0.5, 1, 2])\n",
      "#ax.get_yaxis().set_major_formatter(matplotlib.ticker.ScalarFormatter())\n",
      "#ax.xaxis.label.set_size(5)\n",
      "ax.set_xticks([0.5, 1, 2])\n",
      "ax.get_xaxis().set_major_formatter(matplotlib.ticker.ScalarFormatter())\n",
      "ax.yaxis.label.set_size(7)\n",
      "\n",
      "\n",
      "\n",
      "#ax.annotate(\"B\", (0,1.), xycoords=(ax.get_yaxis().get_label(), \"axes fraction\"), \n",
      "#             fontsize=14) \n",
      "\n",
      "#suptitle(\"Figure S%i\"%sfn)\n",
      "figures.append(fig)"
     ],
     "language": "python",
     "metadata": {},
     "outputs": [
      {
       "output_type": "stream",
       "stream": "stdout",
       "text": [
        "['Recruiter_Join_Date_Numeric_Days' 'Recruitment_Generation'\n",
        " 'Number_of_Recruits']\n"
       ]
      },
      {
       "metadata": {},
       "output_type": "display_data",
       "png": "[encoded data removed]",
       "text": [
        "<matplotlib.figure.Figure at 0xb9e2a50>"
       ]
      }
     ],
     "prompt_number": 26
    },
    {
     "cell_type": "code",
     "collapsed": false,
     "input": [
      "##Principles taken from http://matplotlib.1069221.n5.nabble.com/svg-in-plot-td27904.html\n",
      "#fig.savefig(\"ChildrenandTime.eps\")\n",
      "#\n",
      "#from pyx import canvas, epsfile \n",
      "#\n",
      "#c = canvas.canvas() \n",
      "## load both external files \n",
      "#c.insert(epsfile.epsfile(0, 0, \"ChildrenandTime.eps\")) \n",
      "#c.insert(epsfile.epsfile(4, 17, \"Parent-nChild-Diagram1.eps\", scale=1.4)) \n",
      "#c.insert(epsfile.epsfile(13.5, 17, \"Parent-nChild-Diagram2.eps\", scale=1.4)) \n",
      "#\n",
      "## save generated EPS files \n",
      "#c.writeEPSfile(\"FigureS3\") \n",
      "#\n",
      "#sfn+=1"
     ],
     "language": "python",
     "metadata": {},
     "outputs": [],
     "prompt_number": 27
    },
    {
     "cell_type": "code",
     "collapsed": false,
     "input": [
      "#import matplotlib.image as mpimg\n",
      "#img=mpimg.imread('/data/alstottjd/Langley/Payout_diagram.png')\n",
      "#\n",
      "#fig = plt.figure()\n",
      "#imgplot = plt.imshow(img)\n",
      "#imgplot.axes.get_xaxis().set_visible(False)\n",
      "#imgplot.axes.get_yaxis().set_visible(False)\n",
      "#imgplot.axes.set_frame_on(False)\n",
      "#\n",
      "##title(\"Figure S%i\"%sfn)\n",
      "#sfn+=1\n",
      "##figures.append(fig)"
     ],
     "language": "python",
     "metadata": {},
     "outputs": [],
     "prompt_number": 28
    },
    {
     "cell_type": "code",
     "collapsed": false,
     "input": [
      "from matplotlib.backends.backend_pdf import PdfPages\n",
      "plots = PdfPages('Figures.pdf')\n",
      "for i in figures:\n",
      "    print i\n",
      "    plots.savefig(i, bbox_inches='tight')\n",
      "plots.close()"
     ],
     "language": "python",
     "metadata": {},
     "outputs": [
      {
       "output_type": "stream",
       "stream": "stdout",
       "text": [
        "Figure(688x212.608)\n",
        "Figure(280x173.053)"
       ]
      },
      {
       "output_type": "stream",
       "stream": "stdout",
       "text": [
        "\n",
        "Figure(576x355.995)"
       ]
      },
      {
       "output_type": "stream",
       "stream": "stdout",
       "text": [
        "\n",
        "Figure(280x173.053)"
       ]
      },
      {
       "output_type": "stream",
       "stream": "stdout",
       "text": [
        "\n",
        "Figure(576x931.968)"
       ]
      },
      {
       "output_type": "stream",
       "stream": "stdout",
       "text": [
        "\n",
        "Figure(280x173.053)"
       ]
      },
      {
       "output_type": "stream",
       "stream": "stdout",
       "text": [
        "\n",
        "Figure(280x173.053)"
       ]
      },
      {
       "output_type": "stream",
       "stream": "stdout",
       "text": [
        "\n"
       ]
      }
     ],
     "prompt_number": 29
    }
   ],
   "metadata": {}
  }
 ]
}