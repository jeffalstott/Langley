{
 "metadata": {
  "name": ""
 },
 "nbformat": 3,
 "nbformat_minor": 0,
 "worksheets": [
  {
   "cells": [
    {
     "cell_type": "markdown",
     "metadata": {},
     "source": [
      "Initial Setup\n",
      "--------"
     ]
    },
    {
     "cell_type": "code",
     "collapsed": false,
     "input": [
      "cd /data/alstottjd/Langley/"
     ],
     "language": "python",
     "metadata": {},
     "outputs": [
      {
       "output_type": "stream",
       "stream": "stdout",
       "text": [
        "/spin1/users/alstottjd/Langley\n"
       ]
      }
     ],
     "prompt_number": 1
    },
    {
     "cell_type": "code",
     "collapsed": false,
     "input": [
      "figures = []\n",
      "fn = 1\n",
      "sfn = 1"
     ],
     "language": "python",
     "metadata": {},
     "outputs": [],
     "prompt_number": 2
    },
    {
     "cell_type": "code",
     "collapsed": false,
     "input": [
      "matplotlib.rc('font', **{'sans-serif' : 'Arial', \n",
      "                         'family' : 'sans-serif',\n",
      "                         'size' : 7})"
     ],
     "language": "python",
     "metadata": {},
     "outputs": [],
     "prompt_number": 3
    },
    {
     "cell_type": "markdown",
     "metadata": {},
     "source": [
      "Load teams\n",
      "--------"
     ]
    },
    {
     "cell_type": "code",
     "collapsed": false,
     "input": [
      "import networkx\n",
      "import pickle\n",
      "G = pickle.load(open('/data/alstottjd/Langley/Network_parents.p'))\n",
      "C=networkx.connected_component_subgraphs(G.to_undirected())"
     ],
     "language": "python",
     "metadata": {},
     "outputs": [],
     "prompt_number": 4
    },
    {
     "cell_type": "code",
     "collapsed": false,
     "input": [
      "for i in range(len(C)):\n",
      "    C[i] = G.subgraph(C[i].nodes())"
     ],
     "language": "python",
     "metadata": {},
     "outputs": [],
     "prompt_number": 5
    },
    {
     "cell_type": "code",
     "collapsed": false,
     "input": [
      "def max_depth(G):\n",
      "    d = 0\n",
      "    for i in G.node:\n",
      "        d = max(d,G.node[i]['depth'])\n",
      "    return float(d)"
     ],
     "language": "python",
     "metadata": {},
     "outputs": [],
     "prompt_number": 6
    },
    {
     "cell_type": "markdown",
     "metadata": {},
     "source": [
      "Figure 1: Example Team and Team Statistics\n",
      "----"
     ]
    },
    {
     "cell_type": "code",
     "collapsed": false,
     "input": [
      "figwidth = 8.6\n",
      "\n",
      "fig = plt.figure(figsize=(figwidth, figwidth/(2*1.618)))\n",
      "\n",
      "\n",
      "\n",
      "######\n",
      "ax = fig.add_subplot(131)\n",
      "\n",
      "import matplotlib.cm as cm\n",
      "\n",
      "i = 3 #Picked team number 3\n",
      "\n",
      "        \n",
      "d = max_depth(C[i])\n",
      "\n",
      "depth_colors = []\n",
      "for j in C[i].nodes():\n",
      "    depth_percentage = C[i].node[j]['depth']/d\n",
      "    depth_colors.append(cm.gray(depth_percentage))\n",
      "    \n",
      "same_age_colors = []\n",
      "same_media_colors = []\n",
      "same_relationship_colors = []\n",
      "for e in C[i].edges():\n",
      "    if C[i].node[e[0]]['age']=='unknown' or C[i].node[e[1]]['age']=='unknown':\n",
      "        same_age_colors.append('green')\n",
      "    elif C[i].node[e[0]]['age']==C[i].node[e[1]]['age']:\n",
      "        same_age_colors.append('blue')\n",
      "    else:\n",
      "        same_age_colors.append('red')\n",
      "    if C[i].node[e[0]]['source_through']==0 or C[i].node[e[1]]['source_through']==0:\n",
      "        same_media_colors.append('green')\n",
      "    elif C[i].node[e[0]]['source_through']==C[i].node[e[1]]['source_through']:\n",
      "        same_media_colors.append('blue')\n",
      "    else:\n",
      "        same_media_colors.append('red')\n",
      "    if C[i].node[e[0]]['source_from']==0 or C[i].node[e[1]]['source_from']==0:\n",
      "        same_relationship_colors.append('green')\n",
      "    elif C[i].node[e[0]]['source_from']==C[i].node[e[1]]['source_from']:\n",
      "        same_relationship_colors.append('blue')\n",
      "    else:\n",
      "        same_relationship_colors.append('red')\n",
      "\n",
      "node_size = 50\n",
      "alpha = 1\n",
      "width = .5\n",
      "\n",
      "#title(\"Example team, %i members, %.0f generations\"%(len(C[i].node), d))\n",
      "H = C[i].copy()\n",
      "for n in H.node:\n",
      "    for k in H.node[n].keys():\n",
      "        H.node[n].pop(k)\n",
      "#pos=networkx.spring_layout(C[i].to_undirected())\n",
      "pos=networkx.graphviz_layout(H,prog='dot')\n",
      "#pos=networkx.graphviz_layout(C[i],prog=\"twopi\",root=0)\n",
      "\n",
      "\n",
      "networkx.draw(C[i],pos,node_size=node_size,\n",
      "    alpha=alpha, width=width, \n",
      "    with_labels=False, \n",
      "    node_color = depth_colors,\n",
      "    edge_color = same_relationship_colors, \n",
      "    arrows=True,\n",
      "    ax=ax)\n",
      "\n",
      "# adjust the plot limits\n",
      "cut = 1.15\n",
      "xmax= cut*max(xx for xx,yy in pos.values())\n",
      "xmin= cut*min(xx for xx,yy in pos.values())\n",
      "ymax= cut*max(yy for xx,yy in pos.values())\n",
      "ymin= cut*min(yy for xx,yy in pos.values())\n",
      "#ax.set_xlim(xmin,xmax)\n",
      "#ax.set_ylim(ymin,ymax)\n",
      "\n",
      "yl = ax.set_ylabel(\"\")\n",
      "ax.annotate(\"a\", (0,1.), xycoords=(yl, \"axes fraction\"), \n",
      "             fontsize=8, fontweight='bold') \n",
      "\n",
      "\n",
      "#######\n",
      "s = 50\n",
      "import powerlaw\n",
      "\n",
      "team_sizes = numpy.zeros(len(C))\n",
      "for i in range(len(C)):\n",
      "    team_sizes[i] = networkx.number_of_nodes(C[i])\n",
      "sizes_fit = powerlaw.Fit(team_sizes, discrete=True)\n",
      "\n",
      "number_of_children = asarray(G.out_degree().values())\n",
      "number_of_children = number_of_children[number_of_children>0]\n",
      "num_children_fit = powerlaw.Fit(number_of_children, discrete=True)\n",
      "\n",
      "########\n",
      "ax = fig.add_subplot(132)\n",
      "x,y = sizes_fit.ccdf(original_data=True)\n",
      "ax.scatter(x,y, s=s)\n",
      "ax.set_xscale(\"log\")\n",
      "ax.set_yscale(\"log\")\n",
      "ax.set_xlabel(\"Team Size\")\n",
      "yl = ax.set_ylabel(u\"p(X \\u2265 x)\")\n",
      "ylim(10**-3,1)\n",
      "xlim(1, 10**3)\n",
      "ax.annotate(\"b\", (0,1.), xycoords=(yl, \"axes fraction\"), \n",
      "             fontsize=8, fontweight='bold') \n",
      "\n",
      "print(sizes_fit.alpha)\n",
      "print(sizes_fit.xmin)\n",
      "print(sizes_fit.loglikelihood_ratio('power_law', 'exponential'))\n",
      "print(sizes_fit.loglikelihood_ratio('power_law', 'lognormal'))\n",
      "\n",
      "x = array([sizes_fit.xmin, max(team_sizes)])\n",
      "y = sizes_fit.power_law.ccdf(x)\n",
      "ax.plot(x,y, 'k--', label=r\"$\\alpha = -%.2f$\"\"\\n\"r\"$x_{min} = %d$\"%(sizes_fit.alpha, sizes_fit.xmin))\n",
      "handles, labels = ax.get_legend_handles_labels()\n",
      "ax.legend(handles[::-1], labels[::-1], loc=3)\n",
      "\n",
      "#########\n",
      "ax = fig.add_subplot(133)\n",
      "x,y = num_children_fit.ccdf(original_data=True)\n",
      "ax.scatter(x,y, s=s)\n",
      "ax.set_xscale(\"log\")\n",
      "ax.set_yscale(\"log\")\n",
      "ax.set_xlabel(\"Number of Recruits per Participant\")\n",
      "yl = ax.set_ylabel(u\"p(X \\u2265 x)\")\n",
      "ylim(1.0/10**3,1)\n",
      "xlim(1, 10.0**3)\n",
      "ax.annotate(\"c\", (0,1.), xycoords=(yl, \"axes fraction\"), \n",
      "             fontsize=8, fontweight='bold') \n",
      "\n",
      "print(num_children_fit.alpha)\n",
      "print(num_children_fit.xmin)\n",
      "print(num_children_fit.loglikelihood_ratio('power_law', 'exponential'))\n",
      "print(num_children_fit.loglikelihood_ratio('power_law', 'lognormal'))\n",
      "\n",
      "x = array([sizes_fit.xmin, max(number_of_children)])\n",
      "y = sizes_fit.power_law.ccdf(x)\n",
      "ax.plot(x,y, 'k--', label=r\"$\\alpha = -%.2f$\"\"\\n\"r\"$x_{min} = %d$\"%(num_children_fit.alpha, num_children_fit.xmin))\n",
      "handles, labels = ax.get_legend_handles_labels()\n",
      "ax.legend(handles[::-1], labels[::-1], loc=3)\n",
      "\n",
      "subplots_adjust(wspace=.3)\n",
      "#suptitle(\"Figure S%i\"%sfn)\n",
      "sfn+=1\n",
      "figures.append(fig)"
     ],
     "language": "python",
     "metadata": {},
     "outputs": [
      {
       "output_type": "stream",
       "stream": "stdout",
       "text": [
        "Calculating best minimal value for power law fit\n",
        "Calculating best minimal value for power law fit"
       ]
      },
      {
       "output_type": "stream",
       "stream": "stdout",
       "text": [
        "\n",
        "1.84173549453"
       ]
      },
      {
       "output_type": "stream",
       "stream": "stdout",
       "text": [
        "\n",
        "2.0\n",
        "(58.528065962144268, 0.0031635833220197006)"
       ]
      },
      {
       "output_type": "stream",
       "stream": "stdout",
       "text": [
        "\n",
        "(0.013301260678712179, 0.94333656609369254)"
       ]
      },
      {
       "output_type": "stream",
       "stream": "stdout",
       "text": [
        "\n",
        "1.95317495909"
       ]
      },
      {
       "output_type": "stream",
       "stream": "stdout",
       "text": [
        "\n",
        "2\n",
        "(61.451138314043035, 0.014691972933115345)\n",
        "(-0.044967456236696846, 0.92625313628788319)"
       ]
      },
      {
       "output_type": "stream",
       "stream": "stdout",
       "text": [
        "\n"
       ]
      },
      {
       "output_type": "stream",
       "stream": "stderr",
       "text": [
        "/home/alstottjd/Code/powerlaw/powerlaw.py:637: RuntimeWarning: invalid value encountered in divide\n",
        "  (Theoretical_CDF * (1 - Theoretical_CDF))\n"
       ]
      },
      {
       "metadata": {},
       "output_type": "display_data",
       "png": "[encoded data removed]",
       "text": [
        "<matplotlib.figure.Figure at 0x3c68950>"
       ]
      }
     ],
     "prompt_number": 7
    },
    {
     "cell_type": "markdown",
     "metadata": {},
     "source": [
      "Run Cox model\n",
      "---------"
     ]
    },
    {
     "cell_type": "code",
     "collapsed": false,
     "input": [
      "%load_ext rmagic"
     ],
     "language": "python",
     "metadata": {},
     "outputs": [
      {
       "output_type": "stream",
       "stream": "stderr",
       "text": [
        "/home/alstottjd/JeffPython/lib/python2.7/site-packages/pytz/__init__.py:35: UserWarning: Module powerlaw was already imported from /home/alstottjd/Code/powerlaw/__init__.pyc, but /home/alstottjd/JeffPython/lib/python2.7/site-packages is being added to sys.path\n",
        "  from pkg_resources import resource_stream\n"
       ]
      }
     ],
     "prompt_number": 8
    },
    {
     "cell_type": "code",
     "collapsed": false,
     "input": [
      "%%R -o factor_labels -d model_data\n",
      "\n",
      "mydata = read.csv(\"Langley_Recruits_anonymized_data.csv\")\n",
      "\n",
      "mydata$Same_Heard_From_as_Recruiter <- factor(mydata$Same_Heard_From_as_Recruiter, levels=0:2)\n",
      "mydata$Same_Heard_From_as_Recruiter <- relevel(mydata$Same_Heard_From_as_Recruiter, ref=\"2\")\n",
      "\n",
      "mydata$Heard_From <- factor(mydata$Heard_From, levels=c(0:5,100))\n",
      "mydata$Heard_From <- relevel(mydata$Heard_From, ref=\"0\")\n",
      "\n",
      "mydata$Age <- relevel(mydata$Age, ref=\"unknown\")\n",
      "mydata$Recruiter_Age <- relevel(mydata$Recruiter_Age, ref=\"unknown\")\n",
      "\n",
      "mydata$Gender <- relevel(mydata$Gender, ref=\"unknown\")\n",
      "mydata$Recruiter_Gender <- relevel(mydata$Recruiter_Gender, ref=\"unknown\")\n",
      "\n",
      "mydata$Location_Comparison <- relevel(mydata$Location_Comparison, ref=\"unknown\")\n",
      "\n",
      "library(survival)\n",
      "library(rmeta)\n",
      "library(car)\n",
      "analysis<-coxph(Surv(Registration_Interval_Days) ~\n",
      "    (Recruiter_Gender*Gender)\n",
      "    + (Recruiter_Age*Age)\n",
      "    + Location_Comparison\n",
      "    + Heard_From\n",
      "    + Same_Heard_From_as_Recruiter\n",
      "    + Recruiter_Number_of_Recruits-1\n",
      "    + Number_of_Recruits\n",
      "    + Recruitment_Generation-1\n",
      "    + Recruiter_Join_Date_Numeric_Days,\n",
      "    , data=mydata\n",
      "    , subset=mydata$Registration_Interval_Days>0.001\n",
      "    , singular.ok=TRUE)\n",
      "\n",
      "print(analysis$call)\n",
      "\n",
      "q<-summary(analysis)\n",
      "model_data = data.frame(coef=q$coefficients[,1], expcoef=q$conf.int[,1], lower95=q$conf.int[,3], upper95=q$conf.int[,4], se=q$coefficients[,3])\n",
      "factor_labels = rownames(model_data)\n",
      "\n",
      "ind = which(!is.na(analysis$coefficients))\n",
      "V = vcov(analysis)\n",
      "V = V[ind, ind]"
     ],
     "language": "python",
     "metadata": {},
     "outputs": [
      {
       "metadata": {},
       "output_type": "display_data",
       "text": [
        "coxph(formula = Surv(Registration_Interval_Days) ~ (Recruiter_Gender * \n",
        "    Gender) + (Recruiter_Age * Age) + Location_Comparison + Heard_From + \n",
        "    Same_Heard_From_as_Recruiter + Recruiter_Number_of_Recruits - \n",
        "    1 + Number_of_Recruits + Recruitment_Generation - 1 + Recruiter_Join_Date_Numeric_Days, \n",
        "    data = mydata, subset = mydata$Registration_Interval_Days > \n",
        "        0.001, singular.ok = TRUE)\n"
       ]
      }
     ],
     "prompt_number": 43
    },
    {
     "cell_type": "markdown",
     "metadata": {},
     "source": [
      "Define forest plot functions\n",
      "------"
     ]
    },
    {
     "cell_type": "code",
     "collapsed": false,
     "input": [
      "def boxplot(middle, boxtop, boxbottom, whiskertop, whiskerbottom, label=None, color='Spectral_r', width=.5, spacing=1, ax=None, orientation='forest'):\n",
      "    n = len(middle)\n",
      "    \n",
      "    middle = ma.masked_invalid(middle)\n",
      "    whiskertop = ma.masked_invalid(whiskertop)\n",
      "    whiskerbottom = ma.masked_invalid(whiskerbottom)\n",
      "    \n",
      "    positions = range(1,spacing*n+1, spacing)\n",
      "    \n",
      "    width = width\n",
      "    width = width/2\n",
      "    \n",
      "    if ax==None:\n",
      "        fig = figure()\n",
      "        ax = fig.add_subplot(111)\n",
      "    \n",
      "    from matplotlib.patches import Rectangle\n",
      "    from matplotlib import colors, cm\n",
      "    norm = colors.LogNorm(middle.min(), middle.max())\n",
      "    cmap = cm.get_cmap(color)\n",
      "    \n",
      "    for i in range(n):\n",
      "        m = middle[i]\n",
      "        if m == ma.masked:\n",
      "            print(\"Skipping invalid value %i\"%i)\n",
      "            continue\n",
      "        bt = boxtop[i]\n",
      "        bb = boxbottom[i]\n",
      "        wt = whiskertop[i]\n",
      "        wb = whiskerbottom[i]\n",
      "        \n",
      "        if orientation=='forest':\n",
      "            position = positions[-(i+1)]\n",
      "\n",
      "            p = Rectangle((bb, position-width),bt-bb, width*2, color=cmap(norm(m)), alpha=.6)\n",
      "            ax.add_patch(p)\n",
      "            \n",
      "            linex = [position-width, position+width]\n",
      "            liney = [m, m]\n",
      "            ax.plot(liney, linex, linewidth=3, color=cmap(norm(m)), alpha=1)\n",
      "            \n",
      "            whiskerx = [position, position, position-width, position+width]\n",
      "            \n",
      "            upperwhiskery = [bt, wt, wt, wt]\n",
      "            ax.plot(upperwhiskery, whiskerx,  color=cmap(norm(m)))\n",
      "            \n",
      "            lowerwhiskery = [bb, wb, wb, wb]\n",
      "            ax.plot(lowerwhiskery, whiskerx, color=cmap(norm(m)))\n",
      "        else:\n",
      "            position = positions[i]\n",
      "\n",
      "            p = Rectangle((position-width, bb),width*2, bt-bb, color=cmap(norm(m)), alpha=.6)\n",
      "            ax.add_patch(p)\n",
      "            \n",
      "            \n",
      "            linex = [position-width, position+width]\n",
      "            liney = [m, m]\n",
      "            ax.plot(linex, liney,'k', linewidth=3, color=cmap(norm(m)), alpha=1)\n",
      "            \n",
      "            whiskerx = [position, position, position-width, position+width]\n",
      "            \n",
      "            upperwhiskery = [bt, wt, wt, wt]\n",
      "            ax.plot(whiskerx, upperwhiskery, color=cmap(norm(m)))\n",
      "            \n",
      "            lowerwhiskery = [bb, wb, wb, wb]\n",
      "            ax.plot(whiskerx, lowerwhiskery, color=cmap(norm(m)))\n",
      "        \n",
      "    if label:\n",
      "        if orientation=='forest':\n",
      "            ax.set_yticks(positions)\n",
      "            ax.set_yticklabels(label[::-1])\n",
      "        else:\n",
      "            ax.set_xticks(positions)\n",
      "            ax.set_xticklabels(label)\n",
      "            \n",
      "    if orientation=='forest':\n",
      "        ax.set_xscale('log')\n",
      "        ax.plot((1,1), ax.get_ylim(), 'k--')\n",
      "        ax.set_xlabel('Hazard Ratio')\n",
      "        ax.set_xlim(min(whiskerbottom)*.8, max(whiskertop)*1.2)\n",
      "    else:\n",
      "        ax.set_yscale('log')\n",
      "        ax.plot(ax.get_xlim(), (1,1), 'k--')\n",
      "        ax.set_ylabel('Hazard Ratio')\n",
      "        ax.set_ylim(min(whiskerbottom)*.8, max(whiskertop)*1.2)\n",
      "    return ax\n",
      "    "
     ],
     "language": "python",
     "metadata": {},
     "outputs": [],
     "prompt_number": 11
    },
    {
     "cell_type": "code",
     "collapsed": false,
     "input": [
      "#Langleylabels = asarray(factor_labels)\n",
      "\n",
      "#coef = model_data['coef']\n",
      "#expcoef = model_data['expcoef']\n",
      "#lower95 = model_data['lower95']\n",
      "#upper95 = model_data['upper95']\n",
      "#se = model_data['se']\n",
      "#lowerse = exp(coef-se)\n",
      "#upperse = exp(coef+se)\n",
      "\n",
      "def Langleyboxplot(indices, **kwargs):\n",
      "    print(factor_labels[indices])\n",
      "    ax = boxplot(model_data['expcoef'][indices],\n",
      "        exp(coef+se)[indices], exp(coef-se)[indices], \n",
      "        model_data['upper95'][indices], model_data['lower95'][indices],\n",
      "        **kwargs)\n",
      "    return ax"
     ],
     "language": "python",
     "metadata": {},
     "outputs": [],
     "prompt_number": 53
    },
    {
     "cell_type": "markdown",
     "metadata": {},
     "source": [
      "Figure 2\n",
      "----"
     ]
    },
    {
     "cell_type": "code",
     "collapsed": false,
     "input": [
      "figwidth = 3.5\n",
      "\n",
      "fig = figure(figsize=(figwidth, figwidth/1.618))\n",
      "ax = fig.add_subplot(111)\n",
      "l = []\n",
      "for i in ['Female', 'Male']:\n",
      "    for j in ['Female', 'Male']:\n",
      "        l.append(r'%s$\\rightarrow$%s'%(j, i))\n",
      "\n",
      "slice_start = 27\n",
      "slice_end = 31\n",
      "ax = Langleyboxplot(range(slice_start, slice_end), label=l, ax=ax)\n",
      "ylabel(r'Recruiter Gender $\\rightarrow$ Recruit Gender')\n",
      "#ax.set_yscale('log')\n",
      "#ax.annotate(\"A\", (0,1.), xycoords=(ax.get_yaxis().get_label(), \"axes fraction\"), \n",
      "#             fontsize=14) \n",
      "\n",
      "#ax = fig.add_subplot(212)\n",
      "#l = ['Parent: Female', 'Parent: Male', 'Child: Female', 'Child: Male']\n",
      "#slice_start = 0\n",
      "#slice_end = 4\n",
      "#ax = Langleyboxplot(range(slice_start, slice_end), label=l, ax=ax)\n",
      "#ax.set_yscale('log')\n",
      "#ax.annotate(\"B\", (0,1.), xycoords=(ax.get_yaxis().get_label(), \"axes fraction\"), \n",
      "#             fontsize=14) \n",
      "\n",
      "\n",
      "\n",
      "\n",
      "#subplots_adjust(hspace=0.5)\n",
      "#suptitle(\"Figure %i\"%fn)\n",
      "#title(\"Figure %i\"%fn)\n",
      "fn+=1\n",
      "figures.append(fig)"
     ],
     "language": "python",
     "metadata": {},
     "outputs": [
      {
       "output_type": "stream",
       "stream": "stdout",
       "text": [
        "['Recruiter_Genderfemale:Genderfemale' 'Recruiter_Gendermale:Genderfemale'\n",
        " 'Recruiter_Genderfemale:Gendermale' 'Recruiter_Gendermale:Gendermale']\n"
       ]
      },
      {
       "metadata": {},
       "output_type": "display_data",
       "png": "[encoded data removed]",
       "text": [
        "<matplotlib.figure.Figure at 0xef65e50>"
       ]
      }
     ],
     "prompt_number": 54
    },
    {
     "cell_type": "code",
     "collapsed": false,
     "input": [
      "%%R\n",
      "hypothesis = \"Recruiter_Genderfemale:Genderfemale - Recruiter_Gendermale:Gendermale\"\n",
      "q = linearHypothesis(analysis, hypothesis, singular.ok=TRUE, vcov.=V)\n",
      "print(q)"
     ],
     "language": "python",
     "metadata": {},
     "outputs": [
      {
       "metadata": {},
       "output_type": "display_data",
       "text": [
        "Linear hypothesis test\n",
        "\n",
        "Hypothesis:\n",
        "Recruiter_Genderfemale:Genderfemale - Recruiter_Gendermale:Gendermale = 0\n",
        "\n",
        "Model 1: restricted model\n",
        "Model 2: Surv(Registration_Interval_Days) ~ (Recruiter_Gender * Gender) + \n",
        "    (Recruiter_Age * Age) + Location_Comparison + Heard_From + \n",
        "    Same_Heard_From_as_Recruiter + Recruiter_Number_of_Recruits - \n",
        "    1 + Number_of_Recruits + Recruitment_Generation - 1 + Recruiter_Join_Date_Numeric_Days\n",
        "\n",
        "Note: Coefficient covariance matrix supplied.\n",
        "\n",
        "  Res.Df Df  Chisq Pr(>Chisq)\n",
        "1    891                     \n",
        "2    890  1 1.6811     0.1948\n"
       ]
      }
     ],
     "prompt_number": 52
    },
    {
     "cell_type": "markdown",
     "metadata": {},
     "source": [
      "Figure 3\n",
      "----"
     ]
    },
    {
     "cell_type": "code",
     "collapsed": false,
     "input": [
      "figwidth = 7.2\n",
      "\n",
      "fig = figure(figsize=(figwidth, figwidth/1.618))\n",
      "#fig = figure(figsize=(4.6,7.44295635))\n",
      "#fig = figure(figsize=(4.6,2.84295635))\n",
      "#fig = figure(figsize=(2.3,3.7214))\n",
      "annotate_coord = (-.15, 1)\n",
      "\n",
      "ax = fig.add_subplot(121)\n",
      "#l = ['Friend', 'Family', 'Organization', 'Langley', 'Media', 'Other']\n",
      "#slice_start = 14\n",
      "#slice_end = 20\n",
      "l = ['Langley', 'Family', 'Friend', 'Other', 'Organization','Media']\n",
      "indices = [18, 16, 15, 20, 17, 19]\n",
      "ax = Langleyboxplot(indices, label=l, spacing=3, ax=ax)\n",
      "ax.set_xticklabels([ax.get_xlim()[0], 1, 10])\n",
      "\n",
      "ylabel('Source from which Recruit First \\nHeard about the Contest')\n",
      "ax.annotate(\"a\", annotate_coord, xycoords=\"axes fraction\",\n",
      "             fontsize=8, fontweight='bold') \n",
      "\n",
      "ax = fig.add_subplot(122)\n",
      "l = ['Recruiter & Recruit\\n Same Source', 'Recruiter & Recruit\\n Different Source']\n",
      "ax = Langleyboxplot([22, 21], label=l, ax=ax)\n",
      "ax.yaxis.tick_right()\n",
      "\n",
      "ax.set_xticks([0.5, 1, 2])\n",
      "ax.get_xaxis().set_major_formatter(matplotlib.ticker.ScalarFormatter())\n",
      "\n",
      "ax.annotate(\"b\", annotate_coord, xycoords=\"axes fraction\", \n",
      "             fontsize=8, fontweight='bold') \n",
      "\n",
      "\n",
      "#subplots_adjust(hspace=0.5)\n",
      "#suptitle(\"Figure %i\"%fn)\n",
      "fn+=1\n",
      "figures.append(fig)"
     ],
     "language": "python",
     "metadata": {},
     "outputs": [
      {
       "output_type": "stream",
       "stream": "stdout",
       "text": [
        "['Heard_From4' 'Heard_From2' 'Heard_From1' 'Heard_From100' 'Heard_From3'\n",
        " 'Heard_From5']\n",
        "['Same_Heard_From_as_Recruiter1' 'Same_Heard_From_as_Recruiter0']"
       ]
      },
      {
       "output_type": "stream",
       "stream": "stdout",
       "text": [
        "\n"
       ]
      },
      {
       "metadata": {},
       "output_type": "display_data",
       "png": "[encoded data removed]",
       "text": [
        "<matplotlib.figure.Figure at 0xf15ff90>"
       ]
      }
     ],
     "prompt_number": 55
    },
    {
     "cell_type": "code",
     "collapsed": false,
     "input": [
      "%%R -o q\n",
      "hypothesis = \"Heard_From4 - Heard_From5\"\n",
      "q = linearHypothesis(analysis, hypothesis, singular.ok=TRUE, vcov.=V)\n",
      "print(q)"
     ],
     "language": "python",
     "metadata": {},
     "outputs": [
      {
       "metadata": {},
       "output_type": "display_data",
       "text": [
        "Linear hypothesis test\n",
        "\n",
        "Hypothesis:\n",
        "Heard_From4 - Heard_From5 = 0\n",
        "\n",
        "Model 1: restricted model\n",
        "Model 2: Surv(Registration_Interval_Days) ~ (Recruiter_Gender * Gender) + \n",
        "    (Recruiter_Age * Age) + Location_Comparison + Heard_From + \n",
        "    Same_Heard_From_as_Recruiter + Recruiter_Number_of_Recruits - \n",
        "    1 + Number_of_Recruits + Recruitment_Generation - 1 + Recruiter_Join_Date_Numeric_Days\n",
        "\n",
        "Note: Coefficient covariance matrix supplied.\n",
        "\n",
        "  Res.Df Df  Chisq Pr(>Chisq)  \n",
        "1    891                       \n",
        "2    890  1 6.5632    0.01041 *\n",
        "---\n",
        "Signif. codes:  0 \u2018***\u2019 0.001 \u2018**\u2019 0.01 \u2018*\u2019 0.05 \u2018.\u2019 0.1 \u2018 \u2019 1\n"
       ]
      }
     ],
     "prompt_number": 56
    },
    {
     "cell_type": "code",
     "collapsed": false,
     "input": [
      "%%R -o q\n",
      "hypothesis = \"Same_Heard_From_as_Recruiter1 - Same_Heard_From_as_Recruiter0\"\n",
      "q = linearHypothesis(analysis, hypothesis, singular.ok=TRUE, vcov.=V)\n",
      "print(q)"
     ],
     "language": "python",
     "metadata": {},
     "outputs": [
      {
       "metadata": {},
       "output_type": "display_data",
       "text": [
        "Linear hypothesis test\n",
        "\n",
        "Hypothesis:\n",
        "- Same_Heard_From_as_Recruiter0  + Same_Heard_From_as_Recruiter1 = 0\n",
        "\n",
        "Model 1: restricted model\n",
        "Model 2: Surv(Registration_Interval_Days) ~ (Recruiter_Gender * Gender) + \n",
        "    (Recruiter_Age * Age) + Location_Comparison + Heard_From + \n",
        "    Same_Heard_From_as_Recruiter + Recruiter_Number_of_Recruits - \n",
        "    1 + Number_of_Recruits + Recruitment_Generation - 1 + Recruiter_Join_Date_Numeric_Days\n",
        "\n",
        "Note: Coefficient covariance matrix supplied.\n",
        "\n",
        "  Res.Df Df  Chisq Pr(>Chisq)    \n",
        "1    891                         \n",
        "2    890  1 11.957  0.0005444 ***\n",
        "---\n",
        "Signif. codes:  0 \u2018***\u2019 0.001 \u2018**\u2019 0.01 \u2018*\u2019 0.05 \u2018.\u2019 0.1 \u2018 \u2019 1\n"
       ]
      }
     ],
     "prompt_number": 57
    },
    {
     "cell_type": "markdown",
     "metadata": {},
     "source": [
      "Figure 4\n",
      "----"
     ]
    },
    {
     "cell_type": "code",
     "collapsed": false,
     "input": [
      "figwidth = 3.5\n",
      "\n",
      "fig = figure(figsize=(7.2,7.2*1.618))\n",
      "\n",
      "l = [\"<20\", \"20-40\", \"40-60\", \">60\"]\n",
      "fontsize=8\n",
      "ax1 = fig.add_subplot(441)\n",
      "        \n",
      "indices = range(31,47,4)\n",
      "ax1 = Langleyboxplot(indices, label=l, ax=ax1, orientation='box')\n",
      "xl = xlim()\n",
      "xlim(xl[0], xl[1]+.5)\n",
      "\n",
      "ax1.set_xticklabels(l, fontsize=fontsize)\n",
      "text(-.01, -.1, 'Recruit Age:', transform = ax1.transAxes, horizontalalignment='right')\n",
      "text(-.01, -.25, 'Recruiter Age:', transform = ax1.transAxes, horizontalalignment='right')\n",
      "\n",
      "group=\"<20\"\n",
      "t = ax1.get_xticks()\n",
      "offset = 10**-4.5\n",
      "text(mean(t[1:3]), offset, group, horizontalalignment='center')\n",
      "\n",
      "ax1.annotate(\"a\", (0,1.), xycoords=(ax1.get_yaxis().get_label(), \"axes fraction\"), \n",
      "             fontsize=8, fontweight='bold') \n",
      "\n",
      "\n",
      "########\n",
      "ax = fig.add_subplot(442, sharey=ax1)\n",
      "        \n",
      "indices = range(32,47,4)\n",
      "ax = Langleyboxplot(indices, ax=ax, label=l, orientation='box')\n",
      "ax.set_xticklabels(l, fontsize=fontsize)\n",
      "\n",
      "group=\"20-40\"\n",
      "t = ax.get_xticks()\n",
      "offset = 10**-4.5\n",
      "text(mean(t[1:3]), offset, group, horizontalalignment='center')\n",
      "\n",
      "ax.set_ylabel(\"\")\n",
      "setp( ax.get_yticklabels(), visible=False)\n",
      "\n",
      "########\n",
      "ax = fig.add_subplot(443, sharey=ax1)\n",
      "        \n",
      "indices = range(33,47,4)\n",
      "ax = Langleyboxplot(indices, label=l, ax=ax, orientation='box')\n",
      "ax.set_xticklabels(l, fontsize=fontsize)\n",
      "\n",
      "group=\"40-60\"\n",
      "t = ax.get_xticks()\n",
      "offset = 10**-4.5\n",
      "text(mean(t[1:3]), offset, group, horizontalalignment='center')\n",
      "\n",
      "ax.set_ylabel(\"\")\n",
      "setp( ax.get_yticklabels(), visible=False)\n",
      "ax.set_ylim(10**-3,10**3)\n",
      "\n",
      "########\n",
      "ax = fig.add_subplot(444)\n",
      "        \n",
      "indices = range(34,47,4)\n",
      "ax = Langleyboxplot(indices, label=l, ax=ax, orientation='box')\n",
      "ax.set_xticklabels(l, fontsize=fontsize)\n",
      "\n",
      "group=\">60\"\n",
      "t = ax.get_xticks()\n",
      "offset = 10**-4.5\n",
      "text(mean(t[1:3]), offset, group, horizontalalignment='center')\n",
      "\n",
      "\n",
      "ax.set_ylabel(\"\")\n",
      "setp( ax.get_yticklabels(), visible=False)\n",
      "ax.set_ylim(10**-3,10**3)\n",
      "\n",
      "xl = xlim()\n",
      "xlim(xl[0]-.5, xl[1]+.5)\n",
      "\n",
      "#########\n",
      "ax = fig.add_subplot(412)\n",
      "l = [\"<20\", \"20-40\", \"40-60\", \">60\"]\n",
      "slice_start = 8\n",
      "slice_end = 12\n",
      "ax = Langleyboxplot(range(slice_start, slice_end), label=l, ax=ax, orientation='box')\n",
      "xlabel('Recruit Age Group')\n",
      "ax.set_yscale('log')\n",
      "ax.annotate(\"b\", (0,1.), xycoords=(ax.get_yaxis().get_label(), \"axes fraction\"), \n",
      "             fontsize=8, fontweight='bold') \n",
      "\n",
      "#########\n",
      "ax1 = fig.add_subplot(4,4,9)\n",
      "\n",
      "l = [\"<20\", \"20-40\", \"40-60\", \">60\"]\n",
      "\n",
      "        \n",
      "indices = range(31,35)\n",
      "ax1 = Langleyboxplot(indices, label=l, ax=ax1, orientation='box')\n",
      "xl = xlim()\n",
      "xlim(xl[0], xl[1]+.5)\n",
      "ax1.set_xticklabels(l, fontsize=fontsize)\n",
      "\n",
      "#ax1.set_xticklabels([\"<20\", \"20-40\", \"40-60\", \">60\"], fontsize=8)\n",
      "text(-.01, -.1, 'Recruiter Age:', transform = ax1.transAxes, horizontalalignment='right')\n",
      "text(-.01, -.25, 'Recruit Age:', transform = ax1.transAxes, horizontalalignment='right')\n",
      "\n",
      "group=\"<20\"\n",
      "t = ax.get_xticks()\n",
      "offset = 10**-4.5\n",
      "text(mean(t[1:3]), offset, group, horizontalalignment='center')\n",
      "\n",
      "ax1.annotate(\"c\", (0,1.), xycoords=(ax1.get_yaxis().get_label(), \"axes fraction\"), \n",
      "             fontsize=8, fontweight='bold') \n",
      "\n",
      "\n",
      "########\n",
      "ax = fig.add_subplot(4,4,10, sharey=ax1)\n",
      "        \n",
      "indices = range(35,39)\n",
      "ax = Langleyboxplot(indices, ax=ax, label=l, orientation='box')\n",
      "ax.set_xticklabels(l, fontsize=fontsize)\n",
      "\n",
      "group=\"20-40\"\n",
      "t = ax.get_xticks()\n",
      "offset = 10**-4.5\n",
      "text(mean(t[1:3]), offset, group, horizontalalignment='center')\n",
      "\n",
      "ax.set_ylabel(\"\")\n",
      "setp( ax.get_yticklabels(), visible=False)\n",
      "\n",
      "########\n",
      "ax = fig.add_subplot(4,4,11, sharey=ax1)\n",
      "        \n",
      "indices = range(39,43)\n",
      "ax = Langleyboxplot(indices, label=l, ax=ax, orientation='box')\n",
      "ax.set_xticklabels(l, fontsize=fontsize)\n",
      "\n",
      "group=\"40-60\"\n",
      "t = ax.get_xticks()\n",
      "offset = 10**-4.5\n",
      "text(mean(t[1:3]), offset, group, horizontalalignment='center')\n",
      "\n",
      "ax.set_ylabel(\"\")\n",
      "setp( ax.get_yticklabels(), visible=False)\n",
      "ax.set_ylim(10**-3,10**3)\n",
      "\n",
      "########\n",
      "ax = fig.add_subplot(4,4,12)\n",
      "        \n",
      "indices = range(43,47)\n",
      "ax = Langleyboxplot(indices, label=l, ax=ax, orientation='box')\n",
      "ax.set_xticklabels(l, fontsize=fontsize)\n",
      "\n",
      "group=\">60\"\n",
      "t = ax.get_xticks()\n",
      "offset = 10**-4.5\n",
      "text(mean(t[1:3]), offset, group, horizontalalignment='center')\n",
      "\n",
      "\n",
      "ax.set_ylabel(\"\")\n",
      "setp( ax.get_yticklabels(), visible=False)\n",
      "ax.set_ylim(10**-3,10**3)\n",
      "\n",
      "xl = xlim()\n",
      "xlim(xl[0]-.5, xl[1]+.5)\n",
      "\n",
      "\n",
      "#########\n",
      "ax = fig.add_subplot(414)\n",
      "l = [\"<20\", \"20-40\", \"40-60\", \">60\"]\n",
      "slice_start = 4\n",
      "slice_end = 8\n",
      "ax = Langleyboxplot(range(slice_start, slice_end), label=l, ax=ax, orientation='box')\n",
      "xlabel('Recruiter Age Group')\n",
      "ax.set_yscale('log')\n",
      "ax.annotate(\"d\", (0,1.), xycoords=(ax.get_yaxis().get_label(), \"axes fraction\"), \n",
      "             fontsize=8, fontweight='bold') \n",
      "\n",
      "subplots_adjust(hspace=0.5)\n",
      "#suptitle(\"Figure %i\"%fn)\n",
      "fn+=1\n",
      "figures.append(fig)"
     ],
     "language": "python",
     "metadata": {},
     "outputs": [
      {
       "output_type": "stream",
       "stream": "stdout",
       "text": [
        "['Recruiter_Age1:Age1' 'Recruiter_Age1:Age2' 'Recruiter_Age1:Age3'\n",
        " 'Recruiter_Age1:Age4']\n",
        "['Recruiter_Age2:Age1' 'Recruiter_Age2:Age2' 'Recruiter_Age2:Age3'\n",
        " 'Recruiter_Age2:Age4']"
       ]
      },
      {
       "output_type": "stream",
       "stream": "stdout",
       "text": [
        "\n",
        "['Recruiter_Age3:Age1' 'Recruiter_Age3:Age2' 'Recruiter_Age3:Age3'\n",
        " 'Recruiter_Age3:Age4']"
       ]
      },
      {
       "output_type": "stream",
       "stream": "stdout",
       "text": [
        "\n",
        "['Recruiter_Age4:Age1' 'Recruiter_Age4:Age2' 'Recruiter_Age4:Age3'\n",
        " 'Recruiter_Age4:Age4']"
       ]
      },
      {
       "output_type": "stream",
       "stream": "stdout",
       "text": [
        "\n",
        "['Age1' 'Age2' 'Age3' 'Age4']"
       ]
      },
      {
       "output_type": "stream",
       "stream": "stdout",
       "text": [
        "\n",
        "['Recruiter_Age1:Age1' 'Recruiter_Age2:Age1' 'Recruiter_Age3:Age1'\n",
        " 'Recruiter_Age4:Age1']"
       ]
      },
      {
       "output_type": "stream",
       "stream": "stdout",
       "text": [
        "\n",
        "['Recruiter_Age1:Age2' 'Recruiter_Age2:Age2' 'Recruiter_Age3:Age2'\n",
        " 'Recruiter_Age4:Age2']"
       ]
      },
      {
       "output_type": "stream",
       "stream": "stdout",
       "text": [
        "\n",
        "['Recruiter_Age1:Age3' 'Recruiter_Age2:Age3' 'Recruiter_Age3:Age3'\n",
        " 'Recruiter_Age4:Age3']"
       ]
      },
      {
       "output_type": "stream",
       "stream": "stdout",
       "text": [
        "\n",
        "['Recruiter_Age1:Age4' 'Recruiter_Age2:Age4' 'Recruiter_Age3:Age4'\n",
        " 'Recruiter_Age4:Age4']"
       ]
      },
      {
       "output_type": "stream",
       "stream": "stdout",
       "text": [
        "\n",
        "['Recruiter_Age1' 'Recruiter_Age2' 'Recruiter_Age3' 'Recruiter_Age4']"
       ]
      },
      {
       "output_type": "stream",
       "stream": "stdout",
       "text": [
        "\n"
       ]
      },
      {
       "output_type": "stream",
       "stream": "stderr",
       "text": [
        "/home/alstottjd/JeffPython/lib/python2.7/site-packages/numpy/ma/core.py:3791: UserWarning: Warning: converting a masked element to nan.\n",
        "  warnings.warn(\"Warning: converting a masked element to nan.\")\n"
       ]
      },
      {
       "metadata": {},
       "output_type": "display_data",
       "png": "[encoded data removed]",
       "text": [
        "<matplotlib.figure.Figure at 0x8b73b50>"
       ]
      }
     ],
     "prompt_number": 17
    },
    {
     "cell_type": "code",
     "collapsed": false,
     "input": [
      "%%R -o q\n",
      "hypothesis = \"Age1 - Age4\"\n",
      "q = linearHypothesis(analysis, hypothesis, singular.ok=TRUE, vcov.=V)\n",
      "print(q)"
     ],
     "language": "python",
     "metadata": {},
     "outputs": [
      {
       "metadata": {},
       "output_type": "display_data",
       "text": [
        "Linear hypothesis test\n",
        "\n",
        "Hypothesis:\n",
        "Age1 - Age4 = 0\n",
        "\n",
        "Model 1: restricted model\n",
        "Model 2: Surv(Registration_Interval_Days) ~ (Recruiter_Gender * Gender) + \n",
        "    (Recruiter_Age * Age) + Location_Comparison + Heard_From + \n",
        "    Same_Heard_From_as_Recruiter + Recruiter_Number_of_Recruits - \n",
        "    1 + Number_of_Recruits + Recruitment_Generation - 1 + Recruiter_Join_Date_Numeric_Days\n",
        "\n",
        "Note: Coefficient covariance matrix supplied.\n",
        "\n",
        "  Res.Df Df  Chisq Pr(>Chisq)  \n",
        "1    891                       \n",
        "2    890  1 2.8685    0.09033 .\n",
        "---\n",
        "Signif. codes:  0 \u2018***\u2019 0.001 \u2018**\u2019 0.01 \u2018*\u2019 0.05 \u2018.\u2019 0.1 \u2018 \u2019 1\n"
       ]
      }
     ],
     "prompt_number": 58
    },
    {
     "cell_type": "markdown",
     "metadata": {},
     "source": [
      "Supplementary Information\n",
      "----"
     ]
    },
    {
     "cell_type": "markdown",
     "metadata": {},
     "source": [
      "Figure S1: Mobilization speed descriptive statistics\n",
      "----"
     ]
    },
    {
     "cell_type": "code",
     "collapsed": false,
     "input": [
      "%%R -o mobilization_times\n",
      "mobilization_times = mydata$Registration_Interval_Days"
     ],
     "language": "python",
     "metadata": {},
     "outputs": [],
     "prompt_number": 19
    },
    {
     "cell_type": "code",
     "collapsed": false,
     "input": [
      "print(mean(mobilization_times))\n",
      "print(median(mobilization_times))\n",
      "print(std(mobilization_times))\n",
      "from scipy.stats import skew\n",
      "print skew(mobilization_times)\n",
      "\n",
      "figwidth = 3.5\n",
      "figsize(figwidth, figwidth/1.618)\n",
      "hist(mobilization_times)\n",
      "xlabel(\"Mobilization Speed (Days)\")\n",
      "ylabel(\"Participant Count\")\n",
      "figures.append(gcf())"
     ],
     "language": "python",
     "metadata": {},
     "outputs": [
      {
       "output_type": "stream",
       "stream": "stdout",
       "text": [
        "6.73430194678\n",
        "4.586990741\n",
        "7.2387407307\n",
        "1.07999192902"
       ]
      },
      {
       "output_type": "stream",
       "stream": "stdout",
       "text": [
        "\n"
       ]
      },
      {
       "metadata": {},
       "output_type": "display_data",
       "png": "[encoded data removed]",
       "text": [
        "<matplotlib.figure.Figure at 0x7221f10>"
       ]
      }
     ],
     "prompt_number": 20
    },
    {
     "cell_type": "code",
     "collapsed": false,
     "input": [
      "import powerlaw\n",
      "fit = powerlaw.Fit(mobilization_times)\n",
      "fit.plot_ccdf()\n",
      "fit.power_law.plot_ccdf()\n",
      "fit.exponential.plot_ccdf()\n",
      "fit.lognormal.plot_ccdf()\n",
      "print fit.distribution_compare('lognormal', 'exponential')\n",
      "\n",
      "figure()\n",
      "fit = powerlaw.Fit(mobilization_times, xmin=1)\n",
      "fit.plot_ccdf()\n",
      "fit.power_law.plot_ccdf()\n",
      "fit.exponential.plot_ccdf()\n",
      "fit.lognormal.plot_ccdf()\n",
      "print fit.distribution_compare('lognormal', 'exponential')"
     ],
     "language": "python",
     "metadata": {},
     "outputs": [
      {
       "output_type": "stream",
       "stream": "stdout",
       "text": [
        "Calculating best minimal value for power law fit\n",
        "(-9.1452347094388102, 0.0059156555121735255)"
       ]
      },
      {
       "output_type": "stream",
       "stream": "stdout",
       "text": [
        "\n",
        "(-11.069245550922046, 0.13395510983662015)"
       ]
      },
      {
       "output_type": "stream",
       "stream": "stdout",
       "text": [
        "\n"
       ]
      },
      {
       "metadata": {},
       "output_type": "display_data",
       "png": "[encoded data removed]",
       "text": [
        "<matplotlib.figure.Figure at 0xa154150>"
       ]
      },
      {
       "metadata": {},
       "output_type": "display_data",
       "png": "[encoded data removed]",
       "text": [
        "<matplotlib.figure.Figure at 0x72eadd0>"
       ]
      }
     ],
     "prompt_number": 33
    },
    {
     "cell_type": "markdown",
     "metadata": {},
     "source": [
      "Figure S2: Model Checking\n",
      "----"
     ]
    },
    {
     "cell_type": "code",
     "collapsed": false,
     "input": [
      "%%R\n",
      "print(summary(analysis))"
     ],
     "language": "python",
     "metadata": {},
     "outputs": [
      {
       "metadata": {},
       "output_type": "display_data",
       "text": [
        "Call:\n",
        "coxph(formula = Surv(Registration_Interval_Days) ~ (Recruiter_Gender * \n",
        "    Gender) + (Recruiter_Age * Age) + Location_Comparison + Heard_From + \n",
        "    Same_Heard_From_as_Recruiter + Recruiter_Number_of_Recruits - \n",
        "    1 + Number_of_Recruits + Recruitment_Generation - 1 + Recruiter_Join_Date_Numeric_Days, \n",
        "    data = mydata, subset = mydata$Registration_Interval_Days > \n",
        "        0.001, singular.ok = TRUE)\n",
        "\n",
        "  n= 934, number of events= 934 \n",
        "\n",
        "                                           coef  exp(coef)   se(coef)      z\n",
        "Recruiter_Genderfemale               -4.2252985  0.0146210  0.6478532 -6.522\n",
        "Recruiter_Gendermale                 -3.8973969  0.0202947  0.6756623 -5.768\n",
        "Genderfemale                         -3.6663657  0.0255692  0.7320836 -5.008\n",
        "Gendermale                           -3.0697588  0.0464324  0.7951258 -3.861\n",
        "Recruiter_Age1                       -1.9189673  0.1467584  0.3149249 -6.093\n",
        "Recruiter_Age2                       -0.4595460  0.6315703  0.2526461 -1.819\n",
        "Recruiter_Age3                       -0.8642294  0.4213761  0.2543806 -3.397\n",
        "Recruiter_Age4                        3.1811647 24.0747765  0.8181413  3.888\n",
        "Age1                                  1.1912480  3.2911859  0.8680250  1.372\n",
        "Age2                                  0.5364055  1.7098498  0.4789970  1.120\n",
        "Age3                                  0.0920956  1.0964696  0.5587068  0.165\n",
        "Age4                                 -0.5586650  0.5719722  0.8994177 -0.621\n",
        "Location_ComparisonDifferent City     0.5578361  1.7468884  0.0970180  5.750\n",
        "Location_ComparisonDifferent Country  0.3147170  1.3698716  0.1028247  3.061\n",
        "Location_ComparisonSame City          0.6671931  1.9487597  0.1497422  4.456\n",
        "Heard_From1                          -0.0137075  0.9863861  0.4349472 -0.032\n",
        "Heard_From2                           0.3170765  1.3731076  0.4560765  0.695\n",
        "Heard_From3                          -0.3224728  0.7243556  0.4572257 -0.705\n",
        "Heard_From4                           0.9296914  2.5337271  0.7379658  1.260\n",
        "Heard_From5                          -0.6922713  0.5004382  0.4807558 -1.440\n",
        "Heard_From100                        -0.1488588  0.8616908  0.4541056 -0.328\n",
        "Same_Heard_From_as_Recruiter0         0.7854020  2.1932885  0.4283424  1.834\n",
        "Same_Heard_From_as_Recruiter1         1.3063830  3.6927927  0.4405745  2.965\n",
        "Recruiter_Number_of_Recruits         -0.0037874  0.9962198  0.0005714 -6.628\n",
        "Number_of_Recruits                    0.0974421  1.1023476  0.0218655  4.456\n",
        "Recruitment_Generation               -0.2485125  0.7799601  0.0569225 -4.366\n",
        "Recruiter_Join_Date_Numeric_Days      0.1422636  1.1528805  0.0096190 14.790\n",
        "Recruiter_Genderfemale:Genderfemale   4.2024656 66.8509530  0.7391617  5.685\n",
        "Recruiter_Gendermale:Genderfemale     4.0824981 59.2934078  0.7559003  5.401\n",
        "Recruiter_Genderfemale:Gendermale     3.6674769 39.1529953  0.8074015  4.542\n",
        "Recruiter_Gendermale:Gendermale       3.3954015 29.8266256  0.8152751  4.165\n",
        "Recruiter_Age1:Age1                  -0.9077442  0.4034333  0.8406150 -1.080\n",
        "Recruiter_Age2:Age1                  -1.8615156  0.1554369  0.9112025 -2.043\n",
        "Recruiter_Age3:Age1                  -2.6560896  0.0702223  0.9843257 -2.698\n",
        "Recruiter_Age4:Age1                          NA         NA  0.0000000     NA\n",
        "Recruiter_Age1:Age2                  -0.2081653  0.8120728  0.4260680 -0.489\n",
        "Recruiter_Age2:Age2                  -1.1183697  0.3268122  0.4922667 -2.272\n",
        "Recruiter_Age3:Age2                  -1.4115857  0.2437565  0.5252788 -2.687\n",
        "Recruiter_Age4:Age2                  -4.5043150  0.0110612  1.1867200 -3.796\n",
        "Recruiter_Age1:Age3                   4.5723679 96.7729857  1.2069977  3.788\n",
        "Recruiter_Age2:Age3                  -0.6785654  0.5073443  0.5732564 -1.184\n",
        "Recruiter_Age3:Age3                  -0.3293963  0.7193578  0.5713507 -0.577\n",
        "Recruiter_Age4:Age3                  -3.9869799  0.0185557  1.1573291 -3.445\n",
        "Recruiter_Age1:Age4                          NA         NA  0.0000000     NA\n",
        "Recruiter_Age2:Age4                  -0.0039790  0.9960289  0.9325630 -0.004\n",
        "Recruiter_Age3:Age4                   0.1873784  1.2060835  0.9927681  0.189\n",
        "Recruiter_Age4:Age4                          NA         NA  0.0000000     NA\n",
        "                                     Pr(>|z|)    \n",
        "Recruiter_Genderfemale               6.94e-11 ***\n",
        "Recruiter_Gendermale                 8.01e-09 ***\n",
        "Genderfemale                         5.50e-07 ***\n",
        "Gendermale                           0.000113 ***\n",
        "Recruiter_Age1                       1.11e-09 ***\n",
        "Recruiter_Age2                       0.068922 .  \n",
        "Recruiter_Age3                       0.000680 ***\n",
        "Recruiter_Age4                       0.000101 ***\n",
        "Age1                                 0.169950    \n",
        "Age2                                 0.262777    \n",
        "Age3                                 0.869072    \n",
        "Age4                                 0.534507    \n",
        "Location_ComparisonDifferent City    8.93e-09 ***\n",
        "Location_ComparisonDifferent Country 0.002208 ** \n",
        "Location_ComparisonSame City         8.37e-06 ***\n",
        "Heard_From1                          0.974859    \n",
        "Heard_From2                          0.486913    \n",
        "Heard_From3                          0.480635    \n",
        "Heard_From4                          0.207741    \n",
        "Heard_From5                          0.149877    \n",
        "Heard_From100                        0.743058    \n",
        "Same_Heard_From_as_Recruiter0        0.066716 .  \n",
        "Same_Heard_From_as_Recruiter1        0.003025 ** \n",
        "Recruiter_Number_of_Recruits         3.40e-11 ***\n",
        "Number_of_Recruits                   8.33e-06 ***\n",
        "Recruitment_Generation               1.27e-05 ***\n",
        "Recruiter_Join_Date_Numeric_Days      < 2e-16 ***\n",
        "Recruiter_Genderfemale:Genderfemale  1.30e-08 ***\n",
        "Recruiter_Gendermale:Genderfemale    6.63e-08 ***\n",
        "Recruiter_Genderfemale:Gendermale    5.56e-06 ***\n",
        "Recruiter_Gendermale:Gendermale      3.12e-05 ***\n",
        "Recruiter_Age1:Age1                  0.280206    \n",
        "Recruiter_Age2:Age1                  0.041060 *  \n",
        "Recruiter_Age3:Age1                  0.006968 ** \n",
        "Recruiter_Age4:Age1                        NA    \n",
        "Recruiter_Age1:Age2                  0.625144    \n",
        "Recruiter_Age2:Age2                  0.023094 *  \n",
        "Recruiter_Age3:Age2                  0.007203 ** \n",
        "Recruiter_Age4:Age2                  0.000147 ***\n",
        "Recruiter_Age1:Age3                  0.000152 ***\n",
        "Recruiter_Age2:Age3                  0.236531    \n",
        "Recruiter_Age3:Age3                  0.564262    \n",
        "Recruiter_Age4:Age3                  0.000571 ***\n",
        "Recruiter_Age1:Age4                        NA    \n",
        "Recruiter_Age2:Age4                  0.996596    \n",
        "Recruiter_Age3:Age4                  0.850294    \n",
        "Recruiter_Age4:Age4                        NA    \n",
        "---\n",
        "Signif. codes:  0 \u2018***\u2019 0.001 \u2018**\u2019 0.01 \u2018*\u2019 0.05 \u2018.\u2019 0.1 \u2018 \u2019 1\n",
        "\n",
        "                                     exp(coef) exp(-coef) lower .95 upper .95\n",
        "Recruiter_Genderfemale                 0.01462   68.39491  0.004107 5.205e-02\n",
        "Recruiter_Gendermale                   0.02029   49.27402  0.005398 7.630e-02\n",
        "Genderfemale                           0.02557   39.10951  0.006089 1.074e-01\n",
        "Gendermale                             0.04643   21.53671  0.009773 2.206e-01\n",
        "Recruiter_Age1                         0.14676    6.81392  0.079166 2.721e-01\n",
        "Recruiter_Age2                         0.63157    1.58335  0.384919 1.036e+00\n",
        "Recruiter_Age3                         0.42138    2.37318  0.255942 6.937e-01\n",
        "Recruiter_Age4                        24.07478    0.04154  4.843498 1.197e+02\n",
        "Age1                                   3.29119    0.30384  0.600466 1.804e+01\n",
        "Age2                                   1.70985    0.58485  0.668706 4.372e+00\n",
        "Age3                                   1.09647    0.91202  0.366796 3.278e+00\n",
        "Age4                                   0.57197    1.74834  0.098127 3.334e+00\n",
        "Location_ComparisonDifferent City      1.74689    0.57245  1.444386 2.113e+00\n",
        "Location_ComparisonDifferent Country   1.36987    0.73000  1.119838 1.676e+00\n",
        "Location_ComparisonSame City           1.94876    0.51315  1.453107 2.613e+00\n",
        "Heard_From1                            0.98639    1.01380  0.420551 2.314e+00\n",
        "Heard_From2                            1.37311    0.72828  0.561683 3.357e+00\n",
        "Heard_From3                            0.72436    1.38054  0.295638 1.775e+00\n",
        "Heard_From4                            2.53373    0.39468  0.596489 1.076e+01\n",
        "Heard_From5                            0.50044    1.99825  0.195043 1.284e+00\n",
        "Heard_From100                          0.86169    1.16051  0.353847 2.098e+00\n",
        "Same_Heard_From_as_Recruiter0          2.19329    0.45594  0.947306 5.078e+00\n",
        "Same_Heard_From_as_Recruiter1          3.69279    0.27080  1.557174 8.757e+00\n",
        "Recruiter_Number_of_Recruits           0.99622    1.00379  0.995105 9.973e-01\n",
        "Number_of_Recruits                     1.10235    0.90715  1.056104 1.151e+00\n",
        "Recruitment_Generation                 0.77996    1.28212  0.697622 8.720e-01\n",
        "Recruiter_Join_Date_Numeric_Days       1.15288    0.86739  1.131349 1.175e+00\n",
        "Recruiter_Genderfemale:Genderfemale   66.85095    0.01496 15.701170 2.846e+02\n",
        "Recruiter_Gendermale:Genderfemale     59.29341    0.01687 13.476679 2.609e+02\n",
        "Recruiter_Genderfemale:Gendermale     39.15300    0.02554  8.044583 1.906e+02\n",
        "Recruiter_Gendermale:Gendermale       29.82663    0.03353  6.034492 1.474e+02\n",
        "Recruiter_Age1:Age1                    0.40343    2.47872  0.077667 2.096e+00\n",
        "Recruiter_Age2:Age1                    0.15544    6.43348  0.026058 9.272e-01\n",
        "Recruiter_Age3:Age1                    0.07022   14.24049  0.010200 4.834e-01\n",
        "Recruiter_Age4:Age1                         NA         NA        NA        NA\n",
        "Recruiter_Age1:Age2                    0.81207    1.23142  0.352310 1.872e+00\n",
        "Recruiter_Age2:Age2                    0.32681    3.05986  0.124532 8.577e-01\n",
        "Recruiter_Age3:Age2                    0.24376    4.10246  0.087064 6.825e-01\n",
        "Recruiter_Age4:Age2                    0.01106   90.40639  0.001081 1.132e-01\n",
        "Recruiter_Age1:Age3                   96.77299    0.01033  9.085646 1.031e+03\n",
        "Recruiter_Age2:Age3                    0.50734    1.97105  0.164948 1.560e+00\n",
        "Recruiter_Age3:Age3                    0.71936    1.39013  0.234753 2.204e+00\n",
        "Recruiter_Age4:Age3                    0.01856   53.89189  0.001920 1.793e-01\n",
        "Recruiter_Age1:Age4                         NA         NA        NA        NA\n",
        "Recruiter_Age2:Age4                    0.99603    1.00399  0.160130 6.195e+00\n",
        "Recruiter_Age3:Age4                    1.20608    0.82913  0.172318 8.442e+00\n",
        "Recruiter_Age4:Age4                         NA         NA        NA        NA\n",
        "\n",
        "Concordance= 0.808  (se = 0.011 )\n",
        "Rsquare= 0.657   (max possible= 1 )\n",
        "Likelihood ratio test= 998.2  on 44 df,   p=0\n",
        "Wald test            = 890.6  on 44 df,   p=0\n",
        "Score (logrank) test = 1108  on 44 df,   p=0\n",
        "\n"
       ]
      }
     ],
     "prompt_number": 122
    },
    {
     "cell_type": "code",
     "collapsed": false,
     "input": [
      "%%R\n",
      "pdf('Model_Fit_Supporting_Information.pdf', paper=\"a4\", height=9)\n",
      "par(mfrow = c(4,3))\n",
      "zph<-cox.zph(analysis)\n",
      "target_variables<-which(\n",
      "    ( \n",
      "    #All the target variables are either an interaction or one of the \"Heard_From\" factors.\n",
      "    grepl(\":\", rownames(zph$table)) | \n",
      "    grepl(\"Heard_From\", rownames(zph$table))\n",
      "    ) &\n",
      "    !is.na(zph$table[,1])\n",
      "    )\n",
      "plot(zph[target_variables])"
     ],
     "language": "python",
     "metadata": {},
     "outputs": [],
     "prompt_number": 127
    },
    {
     "cell_type": "markdown",
     "metadata": {},
     "source": [
      "Figure S3: Geography\n",
      "----"
     ]
    },
    {
     "cell_type": "code",
     "collapsed": false,
     "input": [
      "figwidth = 3.5\n",
      "\n",
      "fig = figure(figsize=(figwidth, figwidth/1.618))\n",
      "\n",
      "ax = fig.add_subplot(111)\n",
      "l = ['Different Country', 'Different City', 'Same City']\n",
      "ax = Langleyboxplot([13,12,14], label=l, ax=ax)\n",
      "#ax.set_xticklabels([ax.get_xlim()[0], 1, ax.get_xlim()[1]])\n",
      "ax.set_xticks([1, 2, 3])\n",
      "ax.get_xaxis().set_major_formatter(matplotlib.ticker.ScalarFormatter())\n",
      "\n",
      "#title(\"Figure %i\"%fn)\n",
      "fn+=1\n",
      "figures.append(fig)"
     ],
     "language": "python",
     "metadata": {},
     "outputs": [
      {
       "output_type": "stream",
       "stream": "stdout",
       "text": [
        "['Location_ComparisonDifferent Country' 'Location_ComparisonDifferent City'\n",
        " 'Location_ComparisonSame City']\n"
       ]
      },
      {
       "metadata": {},
       "output_type": "display_data",
       "png": "[encoded data removed]",
       "text": [
        "<matplotlib.figure.Figure at 0xc8c5b90>"
       ]
      }
     ],
     "prompt_number": 23
    },
    {
     "cell_type": "code",
     "collapsed": false,
     "input": [
      "%%R -o q\n",
      "hypothesis = \"Location_ComparisonDifferent Country - Location_ComparisonSame City\"\n",
      "q = linearHypothesis(analysis, hypothesis, singular.ok=TRUE, vcov.=V)\n",
      "print(q)"
     ],
     "language": "python",
     "metadata": {},
     "outputs": [
      {
       "metadata": {},
       "output_type": "display_data",
       "text": [
        "Linear hypothesis test\n",
        "\n",
        "Hypothesis:\n",
        "Location_ComparisonDifferent Country - Location_ComparisonSame City = 0\n",
        "\n",
        "Model 1: restricted model\n",
        "Model 2: Surv(Registration_Interval_Days) ~ (Recruiter_Gender * Gender) + \n",
        "    (Recruiter_Age * Age) + Location_Comparison + Heard_From + \n",
        "    Same_Heard_From_as_Recruiter + Recruiter_Number_of_Recruits - \n",
        "    1 + Number_of_Recruits + Recruitment_Generation - 1 + Recruiter_Join_Date_Numeric_Days\n",
        "\n",
        "Note: Coefficient covariance matrix supplied.\n",
        "\n",
        "  Res.Df Df  Chisq Pr(>Chisq)   \n",
        "1    898                        \n",
        "2    897  1 6.7293   0.009484 **\n",
        "---\n",
        "Signif. codes:  0 \u2018***\u2019 0.001 \u2018**\u2019 0.01 \u2018*\u2019 0.05 \u2018.\u2019 0.1 \u2018 \u2019 1\n"
       ]
      }
     ],
     "prompt_number": 41
    },
    {
     "cell_type": "markdown",
     "metadata": {},
     "source": [
      "Figure S4: Other Control Variables\n",
      "----"
     ]
    },
    {
     "cell_type": "code",
     "collapsed": false,
     "input": [
      "figwidth = 3.5\n",
      "\n",
      "fig = plt.figure(figsize=(figwidth, figwidth/1.618))\n",
      "\n",
      "ax = fig.add_subplot(111)\n",
      "l = ['Additional Generation\\nin Team after the First',\n",
      "    \"Recruit Recruiting an\\n Additional Future Recruit\",\n",
      "    'Additional Day after\\nRegistration Opened\\n(Inverse of Days Left Until Contest)']\n",
      "\n",
      "slice_start = 24\n",
      "slice_end = 27\n",
      "ax = Langleyboxplot([25,24,26], label=l, ax=ax, orientation='forest')\n",
      "#ax.set_yticks([0.5, 1, 2])\n",
      "#ax.get_yaxis().set_major_formatter(matplotlib.ticker.ScalarFormatter())\n",
      "#ax.xaxis.label.set_size(5)\n",
      "ax.set_xticks([0.5, 1, 2])\n",
      "ax.get_xaxis().set_major_formatter(matplotlib.ticker.ScalarFormatter())\n",
      "ax.yaxis.label.set_size(7)\n",
      "\n",
      "\n",
      "\n",
      "#ax.annotate(\"B\", (0,1.), xycoords=(ax.get_yaxis().get_label(), \"axes fraction\"), \n",
      "#             fontsize=14) \n",
      "\n",
      "#suptitle(\"Figure S%i\"%sfn)\n",
      "figures.append(fig)"
     ],
     "language": "python",
     "metadata": {},
     "outputs": [
      {
       "output_type": "stream",
       "stream": "stdout",
       "text": [
        "['Recruitment_Generation' 'Number_of_Recruits'\n",
        " 'Recruiter_Join_Date_Numeric_Days']\n"
       ]
      },
      {
       "metadata": {},
       "output_type": "display_data",
       "png": "[encoded data removed]",
       "text": [
        "<matplotlib.figure.Figure at 0xd19df90>"
       ]
      }
     ],
     "prompt_number": 25
    },
    {
     "cell_type": "code",
     "collapsed": false,
     "input": [
      "##Principles taken from http://matplotlib.1069221.n5.nabble.com/svg-in-plot-td27904.html\n",
      "#fig.savefig(\"ChildrenandTime.eps\")\n",
      "#\n",
      "#from pyx import canvas, epsfile \n",
      "#\n",
      "#c = canvas.canvas() \n",
      "## load both external files \n",
      "#c.insert(epsfile.epsfile(0, 0, \"ChildrenandTime.eps\")) \n",
      "#c.insert(epsfile.epsfile(4, 17, \"Parent-nChild-Diagram1.eps\", scale=1.4)) \n",
      "#c.insert(epsfile.epsfile(13.5, 17, \"Parent-nChild-Diagram2.eps\", scale=1.4)) \n",
      "#\n",
      "## save generated EPS files \n",
      "#c.writeEPSfile(\"FigureS3\") \n",
      "#\n",
      "#sfn+=1"
     ],
     "language": "python",
     "metadata": {},
     "outputs": [],
     "prompt_number": 26
    },
    {
     "cell_type": "code",
     "collapsed": false,
     "input": [
      "#import matplotlib.image as mpimg\n",
      "#img=mpimg.imread('/data/alstottjd/Langley/Payout_diagram.png')\n",
      "#\n",
      "#fig = plt.figure()\n",
      "#imgplot = plt.imshow(img)\n",
      "#imgplot.axes.get_xaxis().set_visible(False)\n",
      "#imgplot.axes.get_yaxis().set_visible(False)\n",
      "#imgplot.axes.set_frame_on(False)\n",
      "#\n",
      "##title(\"Figure S%i\"%sfn)\n",
      "#sfn+=1\n",
      "##figures.append(fig)"
     ],
     "language": "python",
     "metadata": {},
     "outputs": [],
     "prompt_number": 27
    },
    {
     "cell_type": "code",
     "collapsed": false,
     "input": [
      "from matplotlib.backends.backend_pdf import PdfPages\n",
      "plots = PdfPages('Figures.pdf')\n",
      "for i in figures:\n",
      "    print i\n",
      "    plots.savefig(i, bbox_inches='tight')\n",
      "plots.close()"
     ],
     "language": "python",
     "metadata": {},
     "outputs": [
      {
       "output_type": "stream",
       "stream": "stdout",
       "text": [
        "Figure(688x212.608)\n",
        "Figure(280x173.053)"
       ]
      },
      {
       "output_type": "stream",
       "stream": "stdout",
       "text": [
        "\n",
        "Figure(576x355.995)"
       ]
      },
      {
       "output_type": "stream",
       "stream": "stdout",
       "text": [
        "\n",
        "Figure(576x931.968)"
       ]
      },
      {
       "output_type": "stream",
       "stream": "stdout",
       "text": [
        "\n",
        "Figure(280x173.053)"
       ]
      },
      {
       "output_type": "stream",
       "stream": "stdout",
       "text": [
        "\n",
        "Figure(280x173.053)"
       ]
      },
      {
       "output_type": "stream",
       "stream": "stdout",
       "text": [
        "\n",
        "Figure(280x173.053)"
       ]
      },
      {
       "output_type": "stream",
       "stream": "stdout",
       "text": [
        "\n"
       ]
      }
     ],
     "prompt_number": 28
    }
   ],
   "metadata": {}
  }
 ]
}